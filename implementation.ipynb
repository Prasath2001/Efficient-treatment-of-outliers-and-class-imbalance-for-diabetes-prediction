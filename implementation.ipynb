{
  "nbformat": 4,
  "nbformat_minor": 0,
  "metadata": {
    "colab": {
      "name": "AI Package.ipynb",
      "provenance": [],
      "collapsed_sections": []
    },
    "kernelspec": {
      "name": "python3",
      "display_name": "Python 3"
    }
  },
  "cells": [
    {
      "cell_type": "code",
      "metadata": {
        "id": "A7M_quoiMYLP"
      },
      "source": [
        "import pandas as pd\n",
        "import matplotlib.pyplot as plt\n",
        "import seaborn as sns\n",
        "import numpy as np"
      ],
      "execution_count": null,
      "outputs": []
    },
    {
      "cell_type": "code",
      "metadata": {
        "colab": {
          "base_uri": "https://localhost:8080/",
          "height": 195
        },
        "id": "E9zOwsAVLvU7",
        "outputId": "8742c299-f768-40b3-aaee-4a7dea26d616"
      },
      "source": [
        "df = pd.read_csv('/content/drive/MyDrive/diabetes.csv')\n",
        "extra_df = df\n",
        "df.head()"
      ],
      "execution_count": null,
      "outputs": [
        {
          "output_type": "execute_result",
          "data": {
            "text/html": [
              "<div>\n",
              "<style scoped>\n",
              "    .dataframe tbody tr th:only-of-type {\n",
              "        vertical-align: middle;\n",
              "    }\n",
              "\n",
              "    .dataframe tbody tr th {\n",
              "        vertical-align: top;\n",
              "    }\n",
              "\n",
              "    .dataframe thead th {\n",
              "        text-align: right;\n",
              "    }\n",
              "</style>\n",
              "<table border=\"1\" class=\"dataframe\">\n",
              "  <thead>\n",
              "    <tr style=\"text-align: right;\">\n",
              "      <th></th>\n",
              "      <th>Pregnancies</th>\n",
              "      <th>Glucose</th>\n",
              "      <th>BloodPressure</th>\n",
              "      <th>SkinThickness</th>\n",
              "      <th>Insulin</th>\n",
              "      <th>BMI</th>\n",
              "      <th>DiabetesPedigreeFunction</th>\n",
              "      <th>Age</th>\n",
              "      <th>Outcome</th>\n",
              "    </tr>\n",
              "  </thead>\n",
              "  <tbody>\n",
              "    <tr>\n",
              "      <th>0</th>\n",
              "      <td>6</td>\n",
              "      <td>148</td>\n",
              "      <td>72</td>\n",
              "      <td>35</td>\n",
              "      <td>0</td>\n",
              "      <td>33.6</td>\n",
              "      <td>0.627</td>\n",
              "      <td>50</td>\n",
              "      <td>1</td>\n",
              "    </tr>\n",
              "    <tr>\n",
              "      <th>1</th>\n",
              "      <td>1</td>\n",
              "      <td>85</td>\n",
              "      <td>66</td>\n",
              "      <td>29</td>\n",
              "      <td>0</td>\n",
              "      <td>26.6</td>\n",
              "      <td>0.351</td>\n",
              "      <td>31</td>\n",
              "      <td>0</td>\n",
              "    </tr>\n",
              "    <tr>\n",
              "      <th>2</th>\n",
              "      <td>8</td>\n",
              "      <td>183</td>\n",
              "      <td>64</td>\n",
              "      <td>0</td>\n",
              "      <td>0</td>\n",
              "      <td>23.3</td>\n",
              "      <td>0.672</td>\n",
              "      <td>32</td>\n",
              "      <td>1</td>\n",
              "    </tr>\n",
              "    <tr>\n",
              "      <th>3</th>\n",
              "      <td>1</td>\n",
              "      <td>89</td>\n",
              "      <td>66</td>\n",
              "      <td>23</td>\n",
              "      <td>94</td>\n",
              "      <td>28.1</td>\n",
              "      <td>0.167</td>\n",
              "      <td>21</td>\n",
              "      <td>0</td>\n",
              "    </tr>\n",
              "    <tr>\n",
              "      <th>4</th>\n",
              "      <td>0</td>\n",
              "      <td>137</td>\n",
              "      <td>40</td>\n",
              "      <td>35</td>\n",
              "      <td>168</td>\n",
              "      <td>43.1</td>\n",
              "      <td>2.288</td>\n",
              "      <td>33</td>\n",
              "      <td>1</td>\n",
              "    </tr>\n",
              "  </tbody>\n",
              "</table>\n",
              "</div>"
            ],
            "text/plain": [
              "   Pregnancies  Glucose  BloodPressure  ...  DiabetesPedigreeFunction  Age  Outcome\n",
              "0            6      148             72  ...                     0.627   50        1\n",
              "1            1       85             66  ...                     0.351   31        0\n",
              "2            8      183             64  ...                     0.672   32        1\n",
              "3            1       89             66  ...                     0.167   21        0\n",
              "4            0      137             40  ...                     2.288   33        1\n",
              "\n",
              "[5 rows x 9 columns]"
            ]
          },
          "metadata": {
            "tags": []
          },
          "execution_count": 2
        }
      ]
    },
    {
      "cell_type": "code",
      "metadata": {
        "colab": {
          "base_uri": "https://localhost:8080/"
        },
        "id": "pEzw3uVLMd8y",
        "outputId": "855ed10e-c8c0-486a-d914-0a3854edba22"
      },
      "source": [
        "df.shape"
      ],
      "execution_count": null,
      "outputs": [
        {
          "output_type": "execute_result",
          "data": {
            "text/plain": [
              "(768, 9)"
            ]
          },
          "metadata": {
            "tags": []
          },
          "execution_count": 3
        }
      ]
    },
    {
      "cell_type": "code",
      "metadata": {
        "colab": {
          "base_uri": "https://localhost:8080/",
          "height": 297
        },
        "id": "rIMQqCGwMg7t",
        "outputId": "765c098f-3ae2-4d90-86f8-0cc9b855c08c"
      },
      "source": [
        "sns.boxplot(x= 'Pregnancies',data = df,color='red')"
      ],
      "execution_count": null,
      "outputs": [
        {
          "output_type": "execute_result",
          "data": {
            "text/plain": [
              "<matplotlib.axes._subplots.AxesSubplot at 0x7f652999b450>"
            ]
          },
          "metadata": {
            "tags": []
          },
          "execution_count": 4
        },
        {
          "output_type": "display_data",
          "data": {
            "image/png": "[encoded data removed]",
            "text/plain": [
              "<Figure size 432x288 with 1 Axes>"
            ]
          },
          "metadata": {
            "tags": [],
            "needs_background": "light"
          }
        }
      ]
    },
    {
      "cell_type": "code",
      "metadata": {
        "colab": {
          "base_uri": "https://localhost:8080/",
          "height": 297
        },
        "id": "64m5x45yMk0B",
        "outputId": "3463bd62-f664-45b3-a220-bc6dbe63c42f"
      },
      "source": [
        "sns.boxplot(x= 'Glucose',data = df,color='red')"
      ],
      "execution_count": null,
      "outputs": [
        {
          "output_type": "execute_result",
          "data": {
            "text/plain": [
              "<matplotlib.axes._subplots.AxesSubplot at 0x7f65298c6150>"
            ]
          },
          "metadata": {
            "tags": []
          },
          "execution_count": 5
        },
        {
          "output_type": "display_data",
          "data": {
            "image/png": "[encoded data removed]",
            "text/plain": [
              "<Figure size 432x288 with 1 Axes>"
            ]
          },
          "metadata": {
            "tags": [],
            "needs_background": "light"
          }
        }
      ]
    },
    {
      "cell_type": "code",
      "metadata": {
        "colab": {
          "base_uri": "https://localhost:8080/",
          "height": 297
        },
        "id": "eHXa4cVHMm-y",
        "outputId": "13674b8b-4f6f-476d-87fa-ce6f08c3633f"
      },
      "source": [
        "sns.boxplot(x= 'BloodPressure',data = df,color='red')"
      ],
      "execution_count": null,
      "outputs": [
        {
          "output_type": "execute_result",
          "data": {
            "text/plain": [
              "<matplotlib.axes._subplots.AxesSubplot at 0x7f652939e790>"
            ]
          },
          "metadata": {
            "tags": []
          },
          "execution_count": 6
        },
        {
          "output_type": "display_data",
          "data": {
            "image/png": "[encoded data removed]",
            "text/plain": [
              "<Figure size 432x288 with 1 Axes>"
            ]
          },
          "metadata": {
            "tags": [],
            "needs_background": "light"
          }
        }
      ]
    },
    {
      "cell_type": "code",
      "metadata": {
        "colab": {
          "base_uri": "https://localhost:8080/",
          "height": 297
        },
        "id": "WqahNC8JMo0L",
        "outputId": "32d9e2cf-f9e2-462d-87cb-3c1b6621cae7"
      },
      "source": [
        "sns.boxplot(x= 'SkinThickness',data = df,color='red')"
      ],
      "execution_count": null,
      "outputs": [
        {
          "output_type": "execute_result",
          "data": {
            "text/plain": [
              "<matplotlib.axes._subplots.AxesSubplot at 0x7f65298b6610>"
            ]
          },
          "metadata": {
            "tags": []
          },
          "execution_count": 7
        },
        {
          "output_type": "display_data",
          "data": {
            "image/png": "[encoded data removed]",
            "text/plain": [
              "<Figure size 432x288 with 1 Axes>"
            ]
          },
          "metadata": {
            "tags": [],
            "needs_background": "light"
          }
        }
      ]
    },
    {
      "cell_type": "code",
      "metadata": {
        "colab": {
          "base_uri": "https://localhost:8080/",
          "height": 297
        },
        "id": "cai6EYsBMrGS",
        "outputId": "34047df6-1e47-492d-ec22-d010c365e603"
      },
      "source": [
        "sns.boxplot(x= 'Insulin',data = df,color='red')"
      ],
      "execution_count": null,
      "outputs": [
        {
          "output_type": "execute_result",
          "data": {
            "text/plain": [
              "<matplotlib.axes._subplots.AxesSubplot at 0x7f6529302090>"
            ]
          },
          "metadata": {
            "tags": []
          },
          "execution_count": 8
        },
        {
          "output_type": "display_data",
          "data": {
            "image/png": "[encoded data removed]",
            "text/plain": [
              "<Figure size 432x288 with 1 Axes>"
            ]
          },
          "metadata": {
            "tags": [],
            "needs_background": "light"
          }
        }
      ]
    },
    {
      "cell_type": "code",
      "metadata": {
        "colab": {
          "base_uri": "https://localhost:8080/",
          "height": 297
        },
        "id": "hJqHyZ9RMs8C",
        "outputId": "4a130bc6-c44a-4920-8507-46caa84ffc78"
      },
      "source": [
        "sns.boxplot(x= 'BMI',data = df,color='red')"
      ],
      "execution_count": null,
      "outputs": [
        {
          "output_type": "execute_result",
          "data": {
            "text/plain": [
              "<matplotlib.axes._subplots.AxesSubplot at 0x7f6529269890>"
            ]
          },
          "metadata": {
            "tags": []
          },
          "execution_count": 9
        },
        {
          "output_type": "display_data",
          "data": {
            "image/png": "[encoded data removed]",
            "text/plain": [
              "<Figure size 432x288 with 1 Axes>"
            ]
          },
          "metadata": {
            "tags": [],
            "needs_background": "light"
          }
        }
      ]
    },
    {
      "cell_type": "code",
      "metadata": {
        "colab": {
          "base_uri": "https://localhost:8080/",
          "height": 297
        },
        "id": "V4oHxTbPMvc3",
        "outputId": "9b0e7e17-ee5d-4bc4-e63c-f55efd0491f0"
      },
      "source": [
        "sns.boxplot(x= 'DiabetesPedigreeFunction',data = df,color='red')"
      ],
      "execution_count": null,
      "outputs": [
        {
          "output_type": "execute_result",
          "data": {
            "text/plain": [
              "<matplotlib.axes._subplots.AxesSubplot at 0x7f6529256790>"
            ]
          },
          "metadata": {
            "tags": []
          },
          "execution_count": 10
        },
        {
          "output_type": "display_data",
          "data": {
            "image/png": "[encoded data removed]",
            "text/plain": [
              "<Figure size 432x288 with 1 Axes>"
            ]
          },
          "metadata": {
            "tags": [],
            "needs_background": "light"
          }
        }
      ]
    },
    {
      "cell_type": "code",
      "metadata": {
        "colab": {
          "base_uri": "https://localhost:8080/",
          "height": 297
        },
        "id": "lt0NNFs_MxVc",
        "outputId": "04cc901b-f660-4315-9159-35a800be4463"
      },
      "source": [
        "sns.boxplot(x= 'Age',data = df,color='red')"
      ],
      "execution_count": null,
      "outputs": [
        {
          "output_type": "execute_result",
          "data": {
            "text/plain": [
              "<matplotlib.axes._subplots.AxesSubplot at 0x7f65291c41d0>"
            ]
          },
          "metadata": {
            "tags": []
          },
          "execution_count": 11
        },
        {
          "output_type": "display_data",
          "data": {
            "image/png": "[encoded data removed]",
            "text/plain": [
              "<Figure size 432x288 with 1 Axes>"
            ]
          },
          "metadata": {
            "tags": [],
            "needs_background": "light"
          }
        }
      ]
    },
    {
      "cell_type": "code",
      "metadata": {
        "colab": {
          "base_uri": "https://localhost:8080/"
        },
        "id": "8F715gvPMzGm",
        "outputId": "b1f60c85-ecd5-471a-c337-cdb3b9aeb661"
      },
      "source": [
        "print(\"No. of Non-Diabeted patient: \",df[df['Outcome']==0]['Outcome'].count())\n",
        "print(\"No. of Diabetes patient: \",df[df['Outcome']==1]['Outcome'].count())"
      ],
      "execution_count": null,
      "outputs": [
        {
          "output_type": "stream",
          "text": [
            "No. of Non-Diabeted patient:  500\n",
            "No. of Diabetes patient:  268\n"
          ],
          "name": "stdout"
        }
      ]
    },
    {
      "cell_type": "code",
      "metadata": {
        "colab": {
          "base_uri": "https://localhost:8080/"
        },
        "id": "zzK-dOF2M-zv",
        "outputId": "df8e7f07-72d5-4577-c7c4-f6fae9d011f1"
      },
      "source": [
        "Non_diabetes = df[df['Outcome']==0]['Outcome'].count()\n",
        "Diabetes = df[df['Outcome']==1]['Outcome'].count()\n",
        "Diabetes_percent = Diabetes/(Diabetes+Non_diabetes)\n",
        "Non_diabetes_percent = Non_diabetes/(Diabetes+Non_diabetes)\n",
        "print('Total Number of Non-Diabetes Patients:',Non_diabetes)\n",
        "print('Total Number of Diabetes Patients:',Diabetes)\n",
        "print('Percentage of Non-Diabetes Patients :',Non_diabetes_percent*100,'%')\n",
        "print('Percentage of Diabetes Patients :',Diabetes_percent*100,'%')"
      ],
      "execution_count": null,
      "outputs": [
        {
          "output_type": "stream",
          "text": [
            "Total Number of Non-Diabetes Patients: 500\n",
            "Total Number of Diabetes Patients: 268\n",
            "Percentage of Non-Diabetes Patients : 65.10416666666666 %\n",
            "Percentage of Diabetes Patients : 34.89583333333333 %\n"
          ],
          "name": "stdout"
        }
      ]
    },
    {
      "cell_type": "code",
      "metadata": {
        "colab": {
          "base_uri": "https://localhost:8080/",
          "height": 297
        },
        "id": "DOpkSRbTOZWC",
        "outputId": "bae93e47-4253-4b9f-f0b6-09a378236ad2"
      },
      "source": [
        "sns.countplot(x= 'Outcome',data = df,color='green')"
      ],
      "execution_count": null,
      "outputs": [
        {
          "output_type": "execute_result",
          "data": {
            "text/plain": [
              "<matplotlib.axes._subplots.AxesSubplot at 0x7f652937fa90>"
            ]
          },
          "metadata": {
            "tags": []
          },
          "execution_count": 14
        },
        {
          "output_type": "display_data",
          "data": {
            "image/png": "[encoded data removed]",
            "text/plain": [
              "<Figure size 432x288 with 1 Axes>"
            ]
          },
          "metadata": {
            "tags": [],
            "needs_background": "light"
          }
        }
      ]
    },
    {
      "cell_type": "code",
      "metadata": {
        "colab": {
          "base_uri": "https://localhost:8080/",
          "height": 570
        },
        "id": "h4MXkLvAOdLI",
        "outputId": "040ae3eb-de24-4afc-d12e-b8bda50a3b9f"
      },
      "source": [
        "plt.figure(figsize=(14,7))\n",
        "sns.heatmap(df.corr(),cmap='coolwarm')"
      ],
      "execution_count": null,
      "outputs": [
        {
          "output_type": "execute_result",
          "data": {
            "text/plain": [
              "<matplotlib.axes._subplots.AxesSubplot at 0x7f652990b950>"
            ]
          },
          "metadata": {
            "tags": []
          },
          "execution_count": 15
        },
        {
          "output_type": "display_data",
          "data": {
            "image/png": "[encoded data removed]",
            "text/plain": [
              "<Figure size 1008x504 with 2 Axes>"
            ]
          },
          "metadata": {
            "tags": [],
            "needs_background": "light"
          }
        }
      ]
    },
    {
      "cell_type": "code",
      "metadata": {
        "id": "k6rd9fv9O4EC"
      },
      "source": [
        "X = df.drop('Outcome',axis=1)\n",
        "y = df['Outcome']"
      ],
      "execution_count": null,
      "outputs": []
    },
    {
      "cell_type": "markdown",
      "metadata": {
        "id": "2vJDyy3CSXfj"
      },
      "source": [
        "AdaBoost and Random Forest Classifier are implemented in original dataset as baseline models, without outlier detection and resampling. "
      ]
    },
    {
      "cell_type": "markdown",
      "metadata": {
        "id": "eAB3cv1PPyPu"
      },
      "source": [
        "# **Random Forest Classifier in Original Dataset**"
      ]
    },
    {
      "cell_type": "code",
      "metadata": {
        "id": "_GY1kIhdPcId"
      },
      "source": [
        "from sklearn.model_selection import train_test_split\n",
        "\n",
        "X_train,X_test,y_train,y_test = train_test_split(X,y,random_state = 0,train_size = 0.7)"
      ],
      "execution_count": null,
      "outputs": []
    },
    {
      "cell_type": "code",
      "metadata": {
        "colab": {
          "base_uri": "https://localhost:8080/",
          "height": 332
        },
        "id": "ABTuuTuLQNE-",
        "outputId": "1ef3f765-7cf1-4ce2-b1d3-bc34da5b56d4"
      },
      "source": [
        "from sklearn.ensemble import RandomForestClassifier\n",
        "from sklearn.metrics import confusion_matrix,classification_report,mean_absolute_error,accuracy_score\n",
        "\n",
        "rfc = RandomForestClassifier(random_state = 1)\n",
        "rfc.fit(X_train,y_train)\n",
        "prediction = rfc.predict(X_test)\n",
        "\n",
        "conf_mat = confusion_matrix(y_true=y_test, y_pred=prediction)\n",
        "print('Confusion matrix:\\n', conf_mat)\n",
        "labels = ['Non-Diabetes', 'Diabetes']\n",
        "fig = plt.figure()\n",
        "ax = fig.add_subplot(111)\n",
        "cax = ax.matshow(conf_mat, cmap=plt.cm.winter)\n",
        "fig.colorbar(cax)\n",
        "ax.set_xticklabels([''] + labels)\n",
        "ax.set_yticklabels([''] + labels)\n",
        "plt.xlabel('Predicted')\n",
        "plt.ylabel('Expected')\n",
        "plt.show()"
      ],
      "execution_count": null,
      "outputs": [
        {
          "output_type": "stream",
          "text": [
            "Confusion matrix:\n",
            " [[137  20]\n",
            " [ 34  40]]\n"
          ],
          "name": "stdout"
        },
        {
          "output_type": "display_data",
          "data": {
            "image/png": "[encoded data removed]",
            "text/plain": [
              "<Figure size 432x288 with 2 Axes>"
            ]
          },
          "metadata": {
            "tags": [],
            "needs_background": "light"
          }
        }
      ]
    },
    {
      "cell_type": "code",
      "metadata": {
        "colab": {
          "base_uri": "https://localhost:8080/"
        },
        "id": "5SIX0Mk3Q7zS",
        "outputId": "32a2fdc4-98b3-4c2d-f5a7-f3ced5425b41"
      },
      "source": [
        "print(classification_report(y_test,prediction))"
      ],
      "execution_count": null,
      "outputs": [
        {
          "output_type": "stream",
          "text": [
            "              precision    recall  f1-score   support\n",
            "\n",
            "           0       0.80      0.87      0.84       157\n",
            "           1       0.67      0.54      0.60        74\n",
            "\n",
            "    accuracy                           0.77       231\n",
            "   macro avg       0.73      0.71      0.72       231\n",
            "weighted avg       0.76      0.77      0.76       231\n",
            "\n"
          ],
          "name": "stdout"
        }
      ]
    },
    {
      "cell_type": "markdown",
      "metadata": {
        "id": "SVmFR0CXRnHD"
      },
      "source": [
        "# **AdaBoost Classifier in Original Dataset**"
      ]
    },
    {
      "cell_type": "code",
      "metadata": {
        "colab": {
          "base_uri": "https://localhost:8080/",
          "height": 332
        },
        "id": "1dGnkhozRFKq",
        "outputId": "af8d0880-6ad7-45a0-f677-01d5ad920f8a"
      },
      "source": [
        "from sklearn.ensemble import AdaBoostClassifier\n",
        "\n",
        "adabc = AdaBoostClassifier(random_state = 1)\n",
        "adabc.fit(X_train,y_train)\n",
        "prediction = adabc.predict(X_test)\n",
        "\n",
        "conf_mat = confusion_matrix(y_true=y_test, y_pred=prediction)\n",
        "print('Confusion matrix:\\n', conf_mat)\n",
        "labels = ['Non-Diabetes', 'Diabetes']\n",
        "fig = plt.figure()\n",
        "ax = fig.add_subplot(111)\n",
        "cax = ax.matshow(conf_mat, cmap=plt.cm.winter)\n",
        "fig.colorbar(cax)\n",
        "ax.set_xticklabels([''] + labels)\n",
        "ax.set_yticklabels([''] + labels)\n",
        "plt.xlabel('Predicted')\n",
        "plt.ylabel('Expected')\n",
        "plt.show()"
      ],
      "execution_count": null,
      "outputs": [
        {
          "output_type": "stream",
          "text": [
            "Confusion matrix:\n",
            " [[135  22]\n",
            " [ 35  39]]\n"
          ],
          "name": "stdout"
        },
        {
          "output_type": "display_data",
          "data": {
            "image/png": "[encoded data removed]",
            "text/plain": [
              "<Figure size 432x288 with 2 Axes>"
            ]
          },
          "metadata": {
            "tags": [],
            "needs_background": "light"
          }
        }
      ]
    },
    {
      "cell_type": "code",
      "metadata": {
        "colab": {
          "base_uri": "https://localhost:8080/"
        },
        "id": "BmhKbiyHSAjW",
        "outputId": "173c813c-14a0-4659-c9e5-d2fd7e6c137f"
      },
      "source": [
        "print(classification_report(y_test,prediction))"
      ],
      "execution_count": null,
      "outputs": [
        {
          "output_type": "stream",
          "text": [
            "              precision    recall  f1-score   support\n",
            "\n",
            "           0       0.79      0.86      0.83       157\n",
            "           1       0.64      0.53      0.58        74\n",
            "\n",
            "    accuracy                           0.75       231\n",
            "   macro avg       0.72      0.69      0.70       231\n",
            "weighted avg       0.74      0.75      0.75       231\n",
            "\n"
          ],
          "name": "stdout"
        }
      ]
    },
    {
      "cell_type": "markdown",
      "metadata": {
        "id": "_ZgCVPXNSsAr"
      },
      "source": [
        "Now, we implement 4 models mentioned in the paper for each version of the dataset.\n",
        "\n",
        "Algorithms : Decision Tree (C4.5), Naive Bayes, SVM-RBF and RIPPER.\n",
        "\n",
        "Dataset version : Original, SMOTEd, IQR + SMOTEd"
      ]
    },
    {
      "cell_type": "markdown",
      "metadata": {
        "id": "Is_Q1RJuUmUX"
      },
      "source": [
        "# **Original Dataset**"
      ]
    },
    {
      "cell_type": "markdown",
      "metadata": {
        "id": "y7UtYPrnUrQL"
      },
      "source": [
        "# 1. Decision Tree"
      ]
    },
    {
      "cell_type": "code",
      "metadata": {
        "colab": {
          "base_uri": "https://localhost:8080/",
          "height": 332
        },
        "id": "Pwu8eHdBUmC4",
        "outputId": "0f8fb08f-b3ad-4d92-cac5-4d7d2b130e90"
      },
      "source": [
        "from sklearn.tree import DecisionTreeClassifier\n",
        "\n",
        "dtc = DecisionTreeClassifier(random_state = 23)\n",
        "dtc.fit(X_train,y_train)\n",
        "prediction = dtc.predict(X_test)\n",
        "\n",
        "conf_mat = confusion_matrix(y_true=y_test, y_pred=prediction)\n",
        "print('Confusion matrix:\\n', conf_mat)\n",
        "labels = ['Non-Diabetes', 'Diabetes']\n",
        "fig = plt.figure()\n",
        "ax = fig.add_subplot(111)\n",
        "cax = ax.matshow(conf_mat, cmap=plt.cm.plasma)\n",
        "fig.colorbar(cax)\n",
        "ax.set_xticklabels([''] + labels)\n",
        "ax.set_yticklabels([''] + labels)\n",
        "plt.xlabel('Predicted')\n",
        "plt.ylabel('Expected')\n",
        "plt.show()"
      ],
      "execution_count": null,
      "outputs": [
        {
          "output_type": "stream",
          "text": [
            "Confusion matrix:\n",
            " [[123  34]\n",
            " [ 25  49]]\n"
          ],
          "name": "stdout"
        },
        {
          "output_type": "display_data",
          "data": {
            "image/png": "[encoded data removed]",
            "text/plain": [
              "<Figure size 432x288 with 2 Axes>"
            ]
          },
          "metadata": {
            "tags": [],
            "needs_background": "light"
          }
        }
      ]
    },
    {
      "cell_type": "code",
      "metadata": {
        "colab": {
          "base_uri": "https://localhost:8080/"
        },
        "id": "J4CDugVISDEy",
        "outputId": "98a9d1eb-fb85-4d13-cda9-968b24edb239"
      },
      "source": [
        "print(classification_report(y_test,prediction))"
      ],
      "execution_count": null,
      "outputs": [
        {
          "output_type": "stream",
          "text": [
            "              precision    recall  f1-score   support\n",
            "\n",
            "           0       0.83      0.78      0.81       157\n",
            "           1       0.59      0.66      0.62        74\n",
            "\n",
            "    accuracy                           0.74       231\n",
            "   macro avg       0.71      0.72      0.72       231\n",
            "weighted avg       0.75      0.74      0.75       231\n",
            "\n"
          ],
          "name": "stdout"
        }
      ]
    },
    {
      "cell_type": "markdown",
      "metadata": {
        "id": "Zx1x3J6fV_lS"
      },
      "source": [
        "# 2. Gaussian Naive Bayes"
      ]
    },
    {
      "cell_type": "code",
      "metadata": {
        "colab": {
          "base_uri": "https://localhost:8080/",
          "height": 332
        },
        "id": "tKxYwDmjV8Th",
        "outputId": "60bdaac3-89e9-428b-b9e1-c445a5d06bd5"
      },
      "source": [
        "from sklearn.naive_bayes import GaussianNB\n",
        "\n",
        "gnb = GaussianNB()\n",
        "gnb.fit(X_train,y_train)\n",
        "prediction = gnb.predict(X_test)\n",
        "\n",
        "conf_mat = confusion_matrix(y_true=y_test, y_pred=prediction)\n",
        "print('Confusion matrix:\\n', conf_mat)\n",
        "labels = ['Non-Diabetes', 'Diabetes']\n",
        "fig = plt.figure()\n",
        "ax = fig.add_subplot(111)\n",
        "cax = ax.matshow(conf_mat, cmap=plt.cm.plasma)\n",
        "fig.colorbar(cax)\n",
        "ax.set_xticklabels([''] + labels)\n",
        "ax.set_yticklabels([''] + labels)\n",
        "plt.xlabel('Predicted')\n",
        "plt.ylabel('Expected')\n",
        "plt.show()"
      ],
      "execution_count": null,
      "outputs": [
        {
          "output_type": "stream",
          "text": [
            "Confusion matrix:\n",
            " [[138  19]\n",
            " [ 36  38]]\n"
          ],
          "name": "stdout"
        },
        {
          "output_type": "display_data",
          "data": {
            "image/png": "[encoded data removed]",
            "text/plain": [
              "<Figure size 432x288 with 2 Axes>"
            ]
          },
          "metadata": {
            "tags": [],
            "needs_background": "light"
          }
        }
      ]
    },
    {
      "cell_type": "code",
      "metadata": {
        "colab": {
          "base_uri": "https://localhost:8080/"
        },
        "id": "Z-O-X8ldW1T7",
        "outputId": "d79bdf58-4b6c-4cd8-88b7-f56a2c9f0e6c"
      },
      "source": [
        "print(classification_report(y_test,prediction))"
      ],
      "execution_count": null,
      "outputs": [
        {
          "output_type": "stream",
          "text": [
            "              precision    recall  f1-score   support\n",
            "\n",
            "           0       0.79      0.88      0.83       157\n",
            "           1       0.67      0.51      0.58        74\n",
            "\n",
            "    accuracy                           0.76       231\n",
            "   macro avg       0.73      0.70      0.71       231\n",
            "weighted avg       0.75      0.76      0.75       231\n",
            "\n"
          ],
          "name": "stdout"
        }
      ]
    },
    {
      "cell_type": "markdown",
      "metadata": {
        "id": "YdtzGV-gXNCA"
      },
      "source": [
        "# 3. SVM with RBF Kernel"
      ]
    },
    {
      "cell_type": "code",
      "metadata": {
        "colab": {
          "base_uri": "https://localhost:8080/",
          "height": 332
        },
        "id": "cWoAYtFcW3gr",
        "outputId": "1f15b0fb-65a1-4553-b5b6-2ebb080b8f6b"
      },
      "source": [
        "from sklearn.svm import SVC\n",
        "from sklearn.model_selection import cross_val_score\n",
        "                                # Default hyperparameter means C=1.0, kernel=rbf and gamma=auto among other parameters.\n",
        "svc=SVC(random_state=10)\n",
        "svc.fit(X_train,y_train)\n",
        "prediction = svc.predict(X_test)\n",
        "\n",
        "conf_mat = confusion_matrix(y_true=y_test, y_pred=prediction)\n",
        "print('Confusion matrix:\\n', conf_mat)\n",
        "labels = ['Non-Diabetes', 'Diabetes']\n",
        "fig = plt.figure()\n",
        "ax = fig.add_subplot(111)\n",
        "cax = ax.matshow(conf_mat, cmap=plt.cm.plasma)\n",
        "fig.colorbar(cax)\n",
        "ax.set_xticklabels([''] + labels)\n",
        "ax.set_yticklabels([''] + labels)\n",
        "plt.xlabel('Predicted')\n",
        "plt.ylabel('Expected')\n",
        "plt.show()\n",
        "\n",
        "#scores = cross_val_score(svc, X, y, cv=10,scoring='f1_macro')\n",
        "#print(\"%0.2f accuracy with a standard deviation of %0.2f\" % (scores.mean(), scores.std()))"
      ],
      "execution_count": null,
      "outputs": [
        {
          "output_type": "stream",
          "text": [
            "Confusion matrix:\n",
            " [[142  15]\n",
            " [ 42  32]]\n"
          ],
          "name": "stdout"
        },
        {
          "output_type": "display_data",
          "data": {
            "image/png": "[encoded data removed]",
            "text/plain": [
              "<Figure size 432x288 with 2 Axes>"
            ]
          },
          "metadata": {
            "tags": [],
            "needs_background": "light"
          }
        }
      ]
    },
    {
      "cell_type": "code",
      "metadata": {
        "colab": {
          "base_uri": "https://localhost:8080/"
        },
        "id": "ei2ylBjGX-Sn",
        "outputId": "40fa6a34-1b7d-4e3a-d78b-7d8bbf064720"
      },
      "source": [
        "print(classification_report(y_test,prediction))"
      ],
      "execution_count": null,
      "outputs": [
        {
          "output_type": "stream",
          "text": [
            "              precision    recall  f1-score   support\n",
            "\n",
            "           0       0.77      0.90      0.83       157\n",
            "           1       0.68      0.43      0.53        74\n",
            "\n",
            "    accuracy                           0.75       231\n",
            "   macro avg       0.73      0.67      0.68       231\n",
            "weighted avg       0.74      0.75      0.74       231\n",
            "\n"
          ],
          "name": "stdout"
        }
      ]
    },
    {
      "cell_type": "markdown",
      "metadata": {
        "id": "DrGbuMdSYCiL"
      },
      "source": [
        "# 4. RIPPER"
      ]
    },
    {
      "cell_type": "code",
      "metadata": {
        "id": "O24fT58_cjW6",
        "colab": {
          "base_uri": "https://localhost:8080/"
        },
        "outputId": "78ea44bc-c090-4f77-c62d-0e3e0e2e488d"
      },
      "source": [
        "pip install wittgenstein         #----- Uncomment this cell to install this library."
      ],
      "execution_count": null,
      "outputs": [
        {
          "output_type": "stream",
          "text": [
            "Collecting wittgenstein\n",
            "\u001b[?25l  Downloading https://files.pythonhosted.org/packages/9b/57/c81aa56ee379dac76e7fef745dcbd3b3c692df5699c593078c6fdd71a83f/wittgenstein-0.2.3-py3-none-any.whl (77kB)\n",
            "\u001b[K     |████████████████████████████████| 81kB 3.7MB/s \n",
            "\u001b[?25hRequirement already satisfied: numpy in /usr/local/lib/python3.7/dist-packages (from wittgenstein) (1.19.5)\n",
            "Requirement already satisfied: pandas in /usr/local/lib/python3.7/dist-packages (from wittgenstein) (1.1.5)\n",
            "Requirement already satisfied: pytz>=2017.2 in /usr/local/lib/python3.7/dist-packages (from pandas->wittgenstein) (2018.9)\n",
            "Requirement already satisfied: python-dateutil>=2.7.3 in /usr/local/lib/python3.7/dist-packages (from pandas->wittgenstein) (2.8.1)\n",
            "Requirement already satisfied: six>=1.5 in /usr/local/lib/python3.7/dist-packages (from python-dateutil>=2.7.3->pandas->wittgenstein) (1.15.0)\n",
            "Installing collected packages: wittgenstein\n",
            "Successfully installed wittgenstein-0.2.3\n"
          ],
          "name": "stdout"
        }
      ]
    },
    {
      "cell_type": "code",
      "metadata": {
        "colab": {
          "base_uri": "https://localhost:8080/",
          "height": 332
        },
        "id": "U8jHLXc8dWMW",
        "outputId": "49db2312-0001-4685-86ba-3056be716419"
      },
      "source": [
        "import wittgenstein as lw\n",
        "\n",
        "ripper_clf = lw.RIPPER(random_state = 0)\n",
        "ripper_clf.fit(X_train,y_train)\n",
        "prediction = ripper_clf.predict(X_test)\n",
        "\n",
        "conf_mat = confusion_matrix(y_true=y_test, y_pred=prediction)\n",
        "print('Confusion matrix:\\n', conf_mat)\n",
        "labels = ['Non-Diabetes', 'Diabetes']\n",
        "fig = plt.figure()\n",
        "ax = fig.add_subplot(111)\n",
        "cax = ax.matshow(conf_mat, cmap=plt.cm.plasma)\n",
        "fig.colorbar(cax)\n",
        "ax.set_xticklabels([''] + labels)\n",
        "ax.set_yticklabels([''] + labels)\n",
        "plt.xlabel('Predicted')\n",
        "plt.ylabel('Expected')\n",
        "plt.show()"
      ],
      "execution_count": null,
      "outputs": [
        {
          "output_type": "stream",
          "text": [
            "Confusion matrix:\n",
            " [[144  13]\n",
            " [ 57  17]]\n"
          ],
          "name": "stdout"
        },
        {
          "output_type": "display_data",
          "data": {
            "image/png": "[encoded data removed]",
            "text/plain": [
              "<Figure size 432x288 with 2 Axes>"
            ]
          },
          "metadata": {
            "tags": [],
            "needs_background": "light"
          }
        }
      ]
    },
    {
      "cell_type": "code",
      "metadata": {
        "colab": {
          "base_uri": "https://localhost:8080/"
        },
        "id": "Ykz6KF7Jd2HX",
        "outputId": "0868b957-820b-4005-c4df-bc783d37e58e"
      },
      "source": [
        "print(classification_report(y_test,prediction))"
      ],
      "execution_count": null,
      "outputs": [
        {
          "output_type": "stream",
          "text": [
            "              precision    recall  f1-score   support\n",
            "\n",
            "           0       0.72      0.92      0.80       157\n",
            "           1       0.57      0.23      0.33        74\n",
            "\n",
            "    accuracy                           0.70       231\n",
            "   macro avg       0.64      0.57      0.57       231\n",
            "weighted avg       0.67      0.70      0.65       231\n",
            "\n"
          ],
          "name": "stdout"
        }
      ]
    },
    {
      "cell_type": "markdown",
      "metadata": {
        "id": "YUz9spL8h2Q6"
      },
      "source": [
        "# **SMOTEd Dataset**"
      ]
    },
    {
      "cell_type": "markdown",
      "metadata": {
        "id": "Cs8EQuY_iJ8L"
      },
      "source": [
        "![smote.png](data:image/png;base64,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)"
      ]
    },
    {
      "cell_type": "code",
      "metadata": {
        "colab": {
          "base_uri": "https://localhost:8080/"
        },
        "id": "Kwxul7Pyh-jj",
        "outputId": "1b8379d2-fe6c-450e-feb8-8cd72b6eb65c"
      },
      "source": [
        "from imblearn.over_sampling import SMOTE\n",
        "\n",
        "r_smote = SMOTE(random_state = 0)\n",
        "r_smote.fit(X,y)\n",
        "X_smote,y_smote = r_smote.fit_resample(X,y)"
      ],
      "execution_count": null,
      "outputs": [
        {
          "output_type": "stream",
          "text": [
            "/usr/local/lib/python3.7/dist-packages/sklearn/externals/six.py:31: FutureWarning: The module is deprecated in version 0.21 and will be removed in version 0.23 since we've dropped support for Python 2.7. Please rely on the official version of six (https://pypi.org/project/six/).\n",
            "  \"(https://pypi.org/project/six/).\", FutureWarning)\n",
            "/usr/local/lib/python3.7/dist-packages/sklearn/utils/deprecation.py:144: FutureWarning: The sklearn.neighbors.base module is  deprecated in version 0.22 and will be removed in version 0.24. The corresponding classes / functions should instead be imported from sklearn.neighbors. Anything that cannot be imported from sklearn.neighbors is now part of the private API.\n",
            "  warnings.warn(message, FutureWarning)\n",
            "/usr/local/lib/python3.7/dist-packages/sklearn/utils/deprecation.py:87: FutureWarning: Function safe_indexing is deprecated; safe_indexing is deprecated in version 0.22 and will be removed in version 0.24.\n",
            "  warnings.warn(msg, category=FutureWarning)\n"
          ],
          "name": "stderr"
        }
      ]
    },
    {
      "cell_type": "code",
      "metadata": {
        "id": "Hiiw04HyjnXG"
      },
      "source": [
        "Xsmote_train,Xsmote_test,ysmote_train,ysmote_test = train_test_split(X_smote,y_smote,random_state = 0,train_size = 0.7)"
      ],
      "execution_count": null,
      "outputs": []
    },
    {
      "cell_type": "markdown",
      "metadata": {
        "id": "HjCXk16eh7Af"
      },
      "source": [
        "# 1. Decision Tree"
      ]
    },
    {
      "cell_type": "code",
      "metadata": {
        "colab": {
          "base_uri": "https://localhost:8080/",
          "height": 332
        },
        "id": "GubZYCmsh11D",
        "outputId": "f7301ee6-f7d9-497c-8fa2-0b1d79dcadee"
      },
      "source": [
        "dtc = DecisionTreeClassifier(random_state = 23)\n",
        "dtc.fit(Xsmote_train,ysmote_train)\n",
        "prediction = dtc.predict(Xsmote_test)\n",
        "\n",
        "conf_mat = confusion_matrix(y_true=ysmote_test, y_pred=prediction)\n",
        "print('Confusion matrix:\\n', conf_mat)\n",
        "labels = ['Non-Diabetes', 'Diabetes']\n",
        "fig = plt.figure()\n",
        "ax = fig.add_subplot(111)\n",
        "cax = ax.matshow(conf_mat, cmap=plt.cm.plasma)\n",
        "fig.colorbar(cax)\n",
        "ax.set_xticklabels([''] + labels)\n",
        "ax.set_yticklabels([''] + labels)\n",
        "plt.xlabel('Predicted')\n",
        "plt.ylabel('Expected')\n",
        "plt.show()"
      ],
      "execution_count": null,
      "outputs": [
        {
          "output_type": "stream",
          "text": [
            "Confusion matrix:\n",
            " [[123  33]\n",
            " [ 26 118]]\n"
          ],
          "name": "stdout"
        },
        {
          "output_type": "display_data",
          "data": {
            "image/png": "[encoded data removed]",
            "text/plain": [
              "<Figure size 432x288 with 2 Axes>"
            ]
          },
          "metadata": {
            "tags": [],
            "needs_background": "light"
          }
        }
      ]
    },
    {
      "cell_type": "code",
      "metadata": {
        "colab": {
          "base_uri": "https://localhost:8080/"
        },
        "id": "pw845onGj4TH",
        "outputId": "6abd8ef2-0afe-44d5-bc51-cfd52150a53f"
      },
      "source": [
        "print(classification_report(ysmote_test,prediction))"
      ],
      "execution_count": null,
      "outputs": [
        {
          "output_type": "stream",
          "text": [
            "              precision    recall  f1-score   support\n",
            "\n",
            "           0       0.83      0.79      0.81       156\n",
            "           1       0.78      0.82      0.80       144\n",
            "\n",
            "    accuracy                           0.80       300\n",
            "   macro avg       0.80      0.80      0.80       300\n",
            "weighted avg       0.80      0.80      0.80       300\n",
            "\n"
          ],
          "name": "stdout"
        }
      ]
    },
    {
      "cell_type": "markdown",
      "metadata": {
        "id": "bZzS6KMij_LE"
      },
      "source": [
        "# 2. Gaussian Naive Bayes"
      ]
    },
    {
      "cell_type": "code",
      "metadata": {
        "colab": {
          "base_uri": "https://localhost:8080/",
          "height": 332
        },
        "id": "55nAe1Ysj9L9",
        "outputId": "e9d8163f-1906-4baf-c78f-0462cd15b641"
      },
      "source": [
        "gnb = GaussianNB()\n",
        "gnb.fit(Xsmote_train,ysmote_train)\n",
        "prediction = gnb.predict(Xsmote_test)\n",
        "\n",
        "conf_mat = confusion_matrix(y_true=ysmote_test, y_pred=prediction)\n",
        "print('Confusion matrix:\\n', conf_mat)\n",
        "labels = ['Non-Diabetes', 'Diabetes']\n",
        "fig = plt.figure()\n",
        "ax = fig.add_subplot(111)\n",
        "cax = ax.matshow(conf_mat, cmap=plt.cm.plasma)\n",
        "fig.colorbar(cax)\n",
        "ax.set_xticklabels([''] + labels)\n",
        "ax.set_yticklabels([''] + labels)\n",
        "plt.xlabel('Predicted')\n",
        "plt.ylabel('Expected')\n",
        "plt.show()"
      ],
      "execution_count": null,
      "outputs": [
        {
          "output_type": "stream",
          "text": [
            "Confusion matrix:\n",
            " [[125  31]\n",
            " [ 42 102]]\n"
          ],
          "name": "stdout"
        },
        {
          "output_type": "display_data",
          "data": {
            "image/png": "[encoded data removed]",
            "text/plain": [
              "<Figure size 432x288 with 2 Axes>"
            ]
          },
          "metadata": {
            "tags": [],
            "needs_background": "light"
          }
        }
      ]
    },
    {
      "cell_type": "code",
      "metadata": {
        "colab": {
          "base_uri": "https://localhost:8080/"
        },
        "id": "A5Mc4m0zkSCX",
        "outputId": "77d2bb11-3aa5-4915-fd23-29a258f9cfc7"
      },
      "source": [
        "print(classification_report(ysmote_test,prediction))"
      ],
      "execution_count": null,
      "outputs": [
        {
          "output_type": "stream",
          "text": [
            "              precision    recall  f1-score   support\n",
            "\n",
            "           0       0.75      0.80      0.77       156\n",
            "           1       0.77      0.71      0.74       144\n",
            "\n",
            "    accuracy                           0.76       300\n",
            "   macro avg       0.76      0.75      0.76       300\n",
            "weighted avg       0.76      0.76      0.76       300\n",
            "\n"
          ],
          "name": "stdout"
        }
      ]
    },
    {
      "cell_type": "markdown",
      "metadata": {
        "id": "pRGGZhs7kak6"
      },
      "source": [
        "# 3. SVM with RBF Kernel"
      ]
    },
    {
      "cell_type": "code",
      "metadata": {
        "colab": {
          "base_uri": "https://localhost:8080/",
          "height": 332
        },
        "id": "7B1iUooLkURQ",
        "outputId": "fdd600b7-0949-47c1-a2c4-9acf3a737f25"
      },
      "source": [
        "svc=SVC(random_state=10)\n",
        "svc.fit(Xsmote_train,ysmote_train)\n",
        "prediction = svc.predict(Xsmote_test)\n",
        "\n",
        "conf_mat = confusion_matrix(y_true=ysmote_test, y_pred=prediction)\n",
        "print('Confusion matrix:\\n', conf_mat)\n",
        "labels = ['Non-Diabetes', 'Diabetes']\n",
        "fig = plt.figure()\n",
        "ax = fig.add_subplot(111)\n",
        "cax = ax.matshow(conf_mat, cmap=plt.cm.plasma)\n",
        "fig.colorbar(cax)\n",
        "ax.set_xticklabels([''] + labels)\n",
        "ax.set_yticklabels([''] + labels)\n",
        "plt.xlabel('Predicted')\n",
        "plt.ylabel('Expected')\n",
        "plt.show()"
      ],
      "execution_count": null,
      "outputs": [
        {
          "output_type": "stream",
          "text": [
            "Confusion matrix:\n",
            " [[116  40]\n",
            " [ 33 111]]\n"
          ],
          "name": "stdout"
        },
        {
          "output_type": "display_data",
          "data": {
            "image/png": "[encoded data removed]",
            "text/plain": [
              "<Figure size 432x288 with 2 Axes>"
            ]
          },
          "metadata": {
            "tags": [],
            "needs_background": "light"
          }
        }
      ]
    },
    {
      "cell_type": "code",
      "metadata": {
        "colab": {
          "base_uri": "https://localhost:8080/"
        },
        "id": "kdpHpGDVko38",
        "outputId": "2fb04796-15ec-4e7e-ec5a-017dc94cd7a8"
      },
      "source": [
        "print(classification_report(ysmote_test,prediction))"
      ],
      "execution_count": null,
      "outputs": [
        {
          "output_type": "stream",
          "text": [
            "              precision    recall  f1-score   support\n",
            "\n",
            "           0       0.78      0.74      0.76       156\n",
            "           1       0.74      0.77      0.75       144\n",
            "\n",
            "    accuracy                           0.76       300\n",
            "   macro avg       0.76      0.76      0.76       300\n",
            "weighted avg       0.76      0.76      0.76       300\n",
            "\n"
          ],
          "name": "stdout"
        }
      ]
    },
    {
      "cell_type": "markdown",
      "metadata": {
        "id": "_JqiNOwMktfb"
      },
      "source": [
        "# 4. RIPPER"
      ]
    },
    {
      "cell_type": "code",
      "metadata": {
        "colab": {
          "base_uri": "https://localhost:8080/",
          "height": 332
        },
        "id": "iOqxb-BOkrE0",
        "outputId": "c6286f1a-c773-416b-8c53-21f2609abfe5"
      },
      "source": [
        "ripper_clf = lw.RIPPER(random_state = 0)\n",
        "ripper_clf.fit(Xsmote_train,ysmote_train)\n",
        "prediction = ripper_clf.predict(Xsmote_test)\n",
        "\n",
        "conf_mat = confusion_matrix(y_true=ysmote_test, y_pred=prediction)\n",
        "print('Confusion matrix:\\n', conf_mat)\n",
        "labels = ['Non-Diabetes', 'Diabetes']\n",
        "fig = plt.figure()\n",
        "ax = fig.add_subplot(111)\n",
        "cax = ax.matshow(conf_mat, cmap=plt.cm.plasma)\n",
        "fig.colorbar(cax)\n",
        "ax.set_xticklabels([''] + labels)\n",
        "ax.set_yticklabels([''] + labels)\n",
        "plt.xlabel('Predicted')\n",
        "plt.ylabel('Expected')\n",
        "plt.show()"
      ],
      "execution_count": null,
      "outputs": [
        {
          "output_type": "stream",
          "text": [
            "Confusion matrix:\n",
            " [[143  13]\n",
            " [ 73  71]]\n"
          ],
          "name": "stdout"
        },
        {
          "output_type": "display_data",
          "data": {
            "image/png": "[encoded data removed]",
            "text/plain": [
              "<Figure size 432x288 with 2 Axes>"
            ]
          },
          "metadata": {
            "tags": [],
            "needs_background": "light"
          }
        }
      ]
    },
    {
      "cell_type": "code",
      "metadata": {
        "colab": {
          "base_uri": "https://localhost:8080/"
        },
        "id": "uAh4NCEtlDT9",
        "outputId": "6507dca2-9a60-4300-898b-370937f99bee"
      },
      "source": [
        "print(classification_report(ysmote_test,prediction))"
      ],
      "execution_count": null,
      "outputs": [
        {
          "output_type": "stream",
          "text": [
            "              precision    recall  f1-score   support\n",
            "\n",
            "           0       0.66      0.92      0.77       156\n",
            "           1       0.85      0.49      0.62       144\n",
            "\n",
            "    accuracy                           0.71       300\n",
            "   macro avg       0.75      0.70      0.70       300\n",
            "weighted avg       0.75      0.71      0.70       300\n",
            "\n"
          ],
          "name": "stdout"
        }
      ]
    },
    {
      "cell_type": "markdown",
      "metadata": {
        "id": "izScdKdXlMmQ"
      },
      "source": [
        "# **IQR + SMOTEd Dataset**\n",
        "\n",
        "First identify the outliers in the dataset with IQR."
      ]
    },
    {
      "cell_type": "code",
      "metadata": {
        "colab": {
          "base_uri": "https://localhost:8080/"
        },
        "id": "vsrNNWpErzBV",
        "outputId": "1a79e4e2-9907-40ec-96cb-3dbdfe20d48a"
      },
      "source": [
        "Q1 = np.percentile(df,25)\n",
        "Q1"
      ],
      "execution_count": null,
      "outputs": [
        {
          "output_type": "execute_result",
          "data": {
            "text/plain": [
              "0.46224999999999994"
            ]
          },
          "metadata": {
            "tags": []
          },
          "execution_count": 41
        }
      ]
    },
    {
      "cell_type": "code",
      "metadata": {
        "id": "FQ9RR3GRsTEs",
        "colab": {
          "base_uri": "https://localhost:8080/"
        },
        "outputId": "8a02b172-0e82-4b4d-eb35-b05d4d1fa07b"
      },
      "source": [
        "Q3 = np.percentile(df,75)\n",
        "Q3"
      ],
      "execution_count": null,
      "outputs": [
        {
          "output_type": "execute_result",
          "data": {
            "text/plain": [
              "61.0"
            ]
          },
          "metadata": {
            "tags": []
          },
          "execution_count": 42
        }
      ]
    },
    {
      "cell_type": "code",
      "metadata": {
        "colab": {
          "base_uri": "https://localhost:8080/"
        },
        "id": "JH4ysTznwGtC",
        "outputId": "f3fdbf5d-36ee-4b29-fcd8-08664b27c4c3"
      },
      "source": [
        "IQR = Q3 - Q1\n",
        "IQR"
      ],
      "execution_count": null,
      "outputs": [
        {
          "output_type": "execute_result",
          "data": {
            "text/plain": [
              "60.53775"
            ]
          },
          "metadata": {
            "tags": []
          },
          "execution_count": 43
        }
      ]
    },
    {
      "cell_type": "code",
      "metadata": {
        "colab": {
          "base_uri": "https://localhost:8080/",
          "height": 402
        },
        "id": "LH2vcHYXwKPF",
        "outputId": "646f7a59-29c1-4f61-99e3-842e35424bda"
      },
      "source": [
        "new_data = (df < (Q1 - 1.5*IQR))|(df > (Q3+1.5*IQR))\n",
        "new_data"
      ],
      "execution_count": null,
      "outputs": [
        {
          "output_type": "execute_result",
          "data": {
            "text/html": [
              "<div>\n",
              "<style scoped>\n",
              "    .dataframe tbody tr th:only-of-type {\n",
              "        vertical-align: middle;\n",
              "    }\n",
              "\n",
              "    .dataframe tbody tr th {\n",
              "        vertical-align: top;\n",
              "    }\n",
              "\n",
              "    .dataframe thead th {\n",
              "        text-align: right;\n",
              "    }\n",
              "</style>\n",
              "<table border=\"1\" class=\"dataframe\">\n",
              "  <thead>\n",
              "    <tr style=\"text-align: right;\">\n",
              "      <th></th>\n",
              "      <th>Pregnancies</th>\n",
              "      <th>Glucose</th>\n",
              "      <th>BloodPressure</th>\n",
              "      <th>SkinThickness</th>\n",
              "      <th>Insulin</th>\n",
              "      <th>BMI</th>\n",
              "      <th>DiabetesPedigreeFunction</th>\n",
              "      <th>Age</th>\n",
              "      <th>Outcome</th>\n",
              "    </tr>\n",
              "  </thead>\n",
              "  <tbody>\n",
              "    <tr>\n",
              "      <th>0</th>\n",
              "      <td>False</td>\n",
              "      <td>False</td>\n",
              "      <td>False</td>\n",
              "      <td>False</td>\n",
              "      <td>False</td>\n",
              "      <td>False</td>\n",
              "      <td>False</td>\n",
              "      <td>False</td>\n",
              "      <td>False</td>\n",
              "    </tr>\n",
              "    <tr>\n",
              "      <th>1</th>\n",
              "      <td>False</td>\n",
              "      <td>False</td>\n",
              "      <td>False</td>\n",
              "      <td>False</td>\n",
              "      <td>False</td>\n",
              "      <td>False</td>\n",
              "      <td>False</td>\n",
              "      <td>False</td>\n",
              "      <td>False</td>\n",
              "    </tr>\n",
              "    <tr>\n",
              "      <th>2</th>\n",
              "      <td>False</td>\n",
              "      <td>True</td>\n",
              "      <td>False</td>\n",
              "      <td>False</td>\n",
              "      <td>False</td>\n",
              "      <td>False</td>\n",
              "      <td>False</td>\n",
              "      <td>False</td>\n",
              "      <td>False</td>\n",
              "    </tr>\n",
              "    <tr>\n",
              "      <th>3</th>\n",
              "      <td>False</td>\n",
              "      <td>False</td>\n",
              "      <td>False</td>\n",
              "      <td>False</td>\n",
              "      <td>False</td>\n",
              "      <td>False</td>\n",
              "      <td>False</td>\n",
              "      <td>False</td>\n",
              "      <td>False</td>\n",
              "    </tr>\n",
              "    <tr>\n",
              "      <th>4</th>\n",
              "      <td>False</td>\n",
              "      <td>False</td>\n",
              "      <td>False</td>\n",
              "      <td>False</td>\n",
              "      <td>True</td>\n",
              "      <td>False</td>\n",
              "      <td>False</td>\n",
              "      <td>False</td>\n",
              "      <td>False</td>\n",
              "    </tr>\n",
              "    <tr>\n",
              "      <th>...</th>\n",
              "      <td>...</td>\n",
              "      <td>...</td>\n",
              "      <td>...</td>\n",
              "      <td>...</td>\n",
              "      <td>...</td>\n",
              "      <td>...</td>\n",
              "      <td>...</td>\n",
              "      <td>...</td>\n",
              "      <td>...</td>\n",
              "    </tr>\n",
              "    <tr>\n",
              "      <th>763</th>\n",
              "      <td>False</td>\n",
              "      <td>False</td>\n",
              "      <td>False</td>\n",
              "      <td>False</td>\n",
              "      <td>True</td>\n",
              "      <td>False</td>\n",
              "      <td>False</td>\n",
              "      <td>False</td>\n",
              "      <td>False</td>\n",
              "    </tr>\n",
              "    <tr>\n",
              "      <th>764</th>\n",
              "      <td>False</td>\n",
              "      <td>False</td>\n",
              "      <td>False</td>\n",
              "      <td>False</td>\n",
              "      <td>False</td>\n",
              "      <td>False</td>\n",
              "      <td>False</td>\n",
              "      <td>False</td>\n",
              "      <td>False</td>\n",
              "    </tr>\n",
              "    <tr>\n",
              "      <th>765</th>\n",
              "      <td>False</td>\n",
              "      <td>False</td>\n",
              "      <td>False</td>\n",
              "      <td>False</td>\n",
              "      <td>False</td>\n",
              "      <td>False</td>\n",
              "      <td>False</td>\n",
              "      <td>False</td>\n",
              "      <td>False</td>\n",
              "    </tr>\n",
              "    <tr>\n",
              "      <th>766</th>\n",
              "      <td>False</td>\n",
              "      <td>False</td>\n",
              "      <td>False</td>\n",
              "      <td>False</td>\n",
              "      <td>False</td>\n",
              "      <td>False</td>\n",
              "      <td>False</td>\n",
              "      <td>False</td>\n",
              "      <td>False</td>\n",
              "    </tr>\n",
              "    <tr>\n",
              "      <th>767</th>\n",
              "      <td>False</td>\n",
              "      <td>False</td>\n",
              "      <td>False</td>\n",
              "      <td>False</td>\n",
              "      <td>False</td>\n",
              "      <td>False</td>\n",
              "      <td>False</td>\n",
              "      <td>False</td>\n",
              "      <td>False</td>\n",
              "    </tr>\n",
              "  </tbody>\n",
              "</table>\n",
              "<p>768 rows × 9 columns</p>\n",
              "</div>"
            ],
            "text/plain": [
              "     Pregnancies  Glucose  ...    Age  Outcome\n",
              "0          False    False  ...  False    False\n",
              "1          False    False  ...  False    False\n",
              "2          False     True  ...  False    False\n",
              "3          False    False  ...  False    False\n",
              "4          False    False  ...  False    False\n",
              "..           ...      ...  ...    ...      ...\n",
              "763        False    False  ...  False    False\n",
              "764        False    False  ...  False    False\n",
              "765        False    False  ...  False    False\n",
              "766        False    False  ...  False    False\n",
              "767        False    False  ...  False    False\n",
              "\n",
              "[768 rows x 9 columns]"
            ]
          },
          "metadata": {
            "tags": []
          },
          "execution_count": 44
        }
      ]
    },
    {
      "cell_type": "code",
      "metadata": {
        "id": "gLowHga8wTNl"
      },
      "source": [
        "from sklearn.ensemble import IsolationForest\n",
        "\n",
        "iso = IsolationForest(contamination=0.1)\n",
        "yhat = iso.fit_predict(df)"
      ],
      "execution_count": null,
      "outputs": []
    },
    {
      "cell_type": "code",
      "metadata": {
        "id": "OV4uURrmwZcO"
      },
      "source": [
        "mask = yhat != -1\n",
        "df = df[mask]"
      ],
      "execution_count": null,
      "outputs": []
    },
    {
      "cell_type": "code",
      "metadata": {
        "colab": {
          "base_uri": "https://localhost:8080/",
          "height": 402
        },
        "id": "doRDUdsiwbxd",
        "outputId": "83133d4a-6897-4f8b-9506-048514e3a7db"
      },
      "source": [
        "new_data_1 = (df < (Q1 - 1.5*IQR))|(df > (Q3+1.5*IQR))\n",
        "new_data_1"
      ],
      "execution_count": null,
      "outputs": [
        {
          "output_type": "execute_result",
          "data": {
            "text/html": [
              "<div>\n",
              "<style scoped>\n",
              "    .dataframe tbody tr th:only-of-type {\n",
              "        vertical-align: middle;\n",
              "    }\n",
              "\n",
              "    .dataframe tbody tr th {\n",
              "        vertical-align: top;\n",
              "    }\n",
              "\n",
              "    .dataframe thead th {\n",
              "        text-align: right;\n",
              "    }\n",
              "</style>\n",
              "<table border=\"1\" class=\"dataframe\">\n",
              "  <thead>\n",
              "    <tr style=\"text-align: right;\">\n",
              "      <th></th>\n",
              "      <th>Pregnancies</th>\n",
              "      <th>Glucose</th>\n",
              "      <th>BloodPressure</th>\n",
              "      <th>SkinThickness</th>\n",
              "      <th>Insulin</th>\n",
              "      <th>BMI</th>\n",
              "      <th>DiabetesPedigreeFunction</th>\n",
              "      <th>Age</th>\n",
              "      <th>Outcome</th>\n",
              "    </tr>\n",
              "  </thead>\n",
              "  <tbody>\n",
              "    <tr>\n",
              "      <th>0</th>\n",
              "      <td>False</td>\n",
              "      <td>False</td>\n",
              "      <td>False</td>\n",
              "      <td>False</td>\n",
              "      <td>False</td>\n",
              "      <td>False</td>\n",
              "      <td>False</td>\n",
              "      <td>False</td>\n",
              "      <td>False</td>\n",
              "    </tr>\n",
              "    <tr>\n",
              "      <th>1</th>\n",
              "      <td>False</td>\n",
              "      <td>False</td>\n",
              "      <td>False</td>\n",
              "      <td>False</td>\n",
              "      <td>False</td>\n",
              "      <td>False</td>\n",
              "      <td>False</td>\n",
              "      <td>False</td>\n",
              "      <td>False</td>\n",
              "    </tr>\n",
              "    <tr>\n",
              "      <th>2</th>\n",
              "      <td>False</td>\n",
              "      <td>True</td>\n",
              "      <td>False</td>\n",
              "      <td>False</td>\n",
              "      <td>False</td>\n",
              "      <td>False</td>\n",
              "      <td>False</td>\n",
              "      <td>False</td>\n",
              "      <td>False</td>\n",
              "    </tr>\n",
              "    <tr>\n",
              "      <th>3</th>\n",
              "      <td>False</td>\n",
              "      <td>False</td>\n",
              "      <td>False</td>\n",
              "      <td>False</td>\n",
              "      <td>False</td>\n",
              "      <td>False</td>\n",
              "      <td>False</td>\n",
              "      <td>False</td>\n",
              "      <td>False</td>\n",
              "    </tr>\n",
              "    <tr>\n",
              "      <th>5</th>\n",
              "      <td>False</td>\n",
              "      <td>False</td>\n",
              "      <td>False</td>\n",
              "      <td>False</td>\n",
              "      <td>False</td>\n",
              "      <td>False</td>\n",
              "      <td>False</td>\n",
              "      <td>False</td>\n",
              "      <td>False</td>\n",
              "    </tr>\n",
              "    <tr>\n",
              "      <th>...</th>\n",
              "      <td>...</td>\n",
              "      <td>...</td>\n",
              "      <td>...</td>\n",
              "      <td>...</td>\n",
              "      <td>...</td>\n",
              "      <td>...</td>\n",
              "      <td>...</td>\n",
              "      <td>...</td>\n",
              "      <td>...</td>\n",
              "    </tr>\n",
              "    <tr>\n",
              "      <th>762</th>\n",
              "      <td>False</td>\n",
              "      <td>False</td>\n",
              "      <td>False</td>\n",
              "      <td>False</td>\n",
              "      <td>False</td>\n",
              "      <td>False</td>\n",
              "      <td>False</td>\n",
              "      <td>False</td>\n",
              "      <td>False</td>\n",
              "    </tr>\n",
              "    <tr>\n",
              "      <th>764</th>\n",
              "      <td>False</td>\n",
              "      <td>False</td>\n",
              "      <td>False</td>\n",
              "      <td>False</td>\n",
              "      <td>False</td>\n",
              "      <td>False</td>\n",
              "      <td>False</td>\n",
              "      <td>False</td>\n",
              "      <td>False</td>\n",
              "    </tr>\n",
              "    <tr>\n",
              "      <th>765</th>\n",
              "      <td>False</td>\n",
              "      <td>False</td>\n",
              "      <td>False</td>\n",
              "      <td>False</td>\n",
              "      <td>False</td>\n",
              "      <td>False</td>\n",
              "      <td>False</td>\n",
              "      <td>False</td>\n",
              "      <td>False</td>\n",
              "    </tr>\n",
              "    <tr>\n",
              "      <th>766</th>\n",
              "      <td>False</td>\n",
              "      <td>False</td>\n",
              "      <td>False</td>\n",
              "      <td>False</td>\n",
              "      <td>False</td>\n",
              "      <td>False</td>\n",
              "      <td>False</td>\n",
              "      <td>False</td>\n",
              "      <td>False</td>\n",
              "    </tr>\n",
              "    <tr>\n",
              "      <th>767</th>\n",
              "      <td>False</td>\n",
              "      <td>False</td>\n",
              "      <td>False</td>\n",
              "      <td>False</td>\n",
              "      <td>False</td>\n",
              "      <td>False</td>\n",
              "      <td>False</td>\n",
              "      <td>False</td>\n",
              "      <td>False</td>\n",
              "    </tr>\n",
              "  </tbody>\n",
              "</table>\n",
              "<p>691 rows × 9 columns</p>\n",
              "</div>"
            ],
            "text/plain": [
              "     Pregnancies  Glucose  ...    Age  Outcome\n",
              "0          False    False  ...  False    False\n",
              "1          False    False  ...  False    False\n",
              "2          False     True  ...  False    False\n",
              "3          False    False  ...  False    False\n",
              "5          False    False  ...  False    False\n",
              "..           ...      ...  ...    ...      ...\n",
              "762        False    False  ...  False    False\n",
              "764        False    False  ...  False    False\n",
              "765        False    False  ...  False    False\n",
              "766        False    False  ...  False    False\n",
              "767        False    False  ...  False    False\n",
              "\n",
              "[691 rows x 9 columns]"
            ]
          },
          "metadata": {
            "tags": []
          },
          "execution_count": 47
        }
      ]
    },
    {
      "cell_type": "code",
      "metadata": {
        "colab": {
          "base_uri": "https://localhost:8080/",
          "height": 402
        },
        "id": "5jeDvqi0wia5",
        "outputId": "8faae54e-b9db-43d8-f843-1956e7d62225"
      },
      "source": [
        "for i in range(18):\n",
        "  iso = IsolationForest(contamination=0.1)\n",
        "  yhat = iso.fit_predict(df)\n",
        "\n",
        "  mask = yhat != -1\n",
        "  df = df[mask]\n",
        "\n",
        "  new_data_final = (df < (Q1 - 1.5*IQR))|(df > (Q3+1.5*IQR))\n",
        "\n",
        "new_data_final"
      ],
      "execution_count": null,
      "outputs": [
        {
          "output_type": "execute_result",
          "data": {
            "text/html": [
              "<div>\n",
              "<style scoped>\n",
              "    .dataframe tbody tr th:only-of-type {\n",
              "        vertical-align: middle;\n",
              "    }\n",
              "\n",
              "    .dataframe tbody tr th {\n",
              "        vertical-align: top;\n",
              "    }\n",
              "\n",
              "    .dataframe thead th {\n",
              "        text-align: right;\n",
              "    }\n",
              "</style>\n",
              "<table border=\"1\" class=\"dataframe\">\n",
              "  <thead>\n",
              "    <tr style=\"text-align: right;\">\n",
              "      <th></th>\n",
              "      <th>Pregnancies</th>\n",
              "      <th>Glucose</th>\n",
              "      <th>BloodPressure</th>\n",
              "      <th>SkinThickness</th>\n",
              "      <th>Insulin</th>\n",
              "      <th>BMI</th>\n",
              "      <th>DiabetesPedigreeFunction</th>\n",
              "      <th>Age</th>\n",
              "      <th>Outcome</th>\n",
              "    </tr>\n",
              "  </thead>\n",
              "  <tbody>\n",
              "    <tr>\n",
              "      <th>3</th>\n",
              "      <td>False</td>\n",
              "      <td>False</td>\n",
              "      <td>False</td>\n",
              "      <td>False</td>\n",
              "      <td>False</td>\n",
              "      <td>False</td>\n",
              "      <td>False</td>\n",
              "      <td>False</td>\n",
              "      <td>False</td>\n",
              "    </tr>\n",
              "    <tr>\n",
              "      <th>27</th>\n",
              "      <td>False</td>\n",
              "      <td>False</td>\n",
              "      <td>False</td>\n",
              "      <td>False</td>\n",
              "      <td>False</td>\n",
              "      <td>False</td>\n",
              "      <td>False</td>\n",
              "      <td>False</td>\n",
              "      <td>False</td>\n",
              "    </tr>\n",
              "    <tr>\n",
              "      <th>32</th>\n",
              "      <td>False</td>\n",
              "      <td>False</td>\n",
              "      <td>False</td>\n",
              "      <td>False</td>\n",
              "      <td>False</td>\n",
              "      <td>False</td>\n",
              "      <td>False</td>\n",
              "      <td>False</td>\n",
              "      <td>False</td>\n",
              "    </tr>\n",
              "    <tr>\n",
              "      <th>47</th>\n",
              "      <td>False</td>\n",
              "      <td>False</td>\n",
              "      <td>False</td>\n",
              "      <td>False</td>\n",
              "      <td>False</td>\n",
              "      <td>False</td>\n",
              "      <td>False</td>\n",
              "      <td>False</td>\n",
              "      <td>False</td>\n",
              "    </tr>\n",
              "    <tr>\n",
              "      <th>50</th>\n",
              "      <td>False</td>\n",
              "      <td>False</td>\n",
              "      <td>False</td>\n",
              "      <td>False</td>\n",
              "      <td>False</td>\n",
              "      <td>False</td>\n",
              "      <td>False</td>\n",
              "      <td>False</td>\n",
              "      <td>False</td>\n",
              "    </tr>\n",
              "    <tr>\n",
              "      <th>...</th>\n",
              "      <td>...</td>\n",
              "      <td>...</td>\n",
              "      <td>...</td>\n",
              "      <td>...</td>\n",
              "      <td>...</td>\n",
              "      <td>...</td>\n",
              "      <td>...</td>\n",
              "      <td>...</td>\n",
              "      <td>...</td>\n",
              "    </tr>\n",
              "    <tr>\n",
              "      <th>729</th>\n",
              "      <td>False</td>\n",
              "      <td>False</td>\n",
              "      <td>False</td>\n",
              "      <td>False</td>\n",
              "      <td>False</td>\n",
              "      <td>False</td>\n",
              "      <td>False</td>\n",
              "      <td>False</td>\n",
              "      <td>False</td>\n",
              "    </tr>\n",
              "    <tr>\n",
              "      <th>742</th>\n",
              "      <td>False</td>\n",
              "      <td>False</td>\n",
              "      <td>False</td>\n",
              "      <td>False</td>\n",
              "      <td>False</td>\n",
              "      <td>False</td>\n",
              "      <td>False</td>\n",
              "      <td>False</td>\n",
              "      <td>False</td>\n",
              "    </tr>\n",
              "    <tr>\n",
              "      <th>752</th>\n",
              "      <td>False</td>\n",
              "      <td>False</td>\n",
              "      <td>False</td>\n",
              "      <td>False</td>\n",
              "      <td>False</td>\n",
              "      <td>False</td>\n",
              "      <td>False</td>\n",
              "      <td>False</td>\n",
              "      <td>False</td>\n",
              "    </tr>\n",
              "    <tr>\n",
              "      <th>760</th>\n",
              "      <td>False</td>\n",
              "      <td>False</td>\n",
              "      <td>False</td>\n",
              "      <td>False</td>\n",
              "      <td>False</td>\n",
              "      <td>False</td>\n",
              "      <td>False</td>\n",
              "      <td>False</td>\n",
              "      <td>False</td>\n",
              "    </tr>\n",
              "    <tr>\n",
              "      <th>767</th>\n",
              "      <td>False</td>\n",
              "      <td>False</td>\n",
              "      <td>False</td>\n",
              "      <td>False</td>\n",
              "      <td>False</td>\n",
              "      <td>False</td>\n",
              "      <td>False</td>\n",
              "      <td>False</td>\n",
              "      <td>False</td>\n",
              "    </tr>\n",
              "  </tbody>\n",
              "</table>\n",
              "<p>100 rows × 9 columns</p>\n",
              "</div>"
            ],
            "text/plain": [
              "     Pregnancies  Glucose  ...    Age  Outcome\n",
              "3          False    False  ...  False    False\n",
              "27         False    False  ...  False    False\n",
              "32         False    False  ...  False    False\n",
              "47         False    False  ...  False    False\n",
              "50         False    False  ...  False    False\n",
              "..           ...      ...  ...    ...      ...\n",
              "729        False    False  ...  False    False\n",
              "742        False    False  ...  False    False\n",
              "752        False    False  ...  False    False\n",
              "760        False    False  ...  False    False\n",
              "767        False    False  ...  False    False\n",
              "\n",
              "[100 rows x 9 columns]"
            ]
          },
          "metadata": {
            "tags": []
          },
          "execution_count": 48
        }
      ]
    },
    {
      "cell_type": "code",
      "metadata": {
        "id": "VvKYivqlyVDT"
      },
      "source": [
        "diff_df = extra_df.merge(df, how = 'outer' ,indicator=True).loc[lambda x : x['_merge']=='left_only']"
      ],
      "execution_count": null,
      "outputs": []
    },
    {
      "cell_type": "code",
      "metadata": {
        "colab": {
          "base_uri": "https://localhost:8080/",
          "height": 402
        },
        "id": "PW7ZP5FfwxnG",
        "outputId": "d4401501-ad6a-4021-fa27-0608dc4d7485"
      },
      "source": [
        "diff_df = diff_df.drop(['_merge'], axis=1)\n",
        "diff_df"
      ],
      "execution_count": null,
      "outputs": [
        {
          "output_type": "execute_result",
          "data": {
            "text/html": [
              "<div>\n",
              "<style scoped>\n",
              "    .dataframe tbody tr th:only-of-type {\n",
              "        vertical-align: middle;\n",
              "    }\n",
              "\n",
              "    .dataframe tbody tr th {\n",
              "        vertical-align: top;\n",
              "    }\n",
              "\n",
              "    .dataframe thead th {\n",
              "        text-align: right;\n",
              "    }\n",
              "</style>\n",
              "<table border=\"1\" class=\"dataframe\">\n",
              "  <thead>\n",
              "    <tr style=\"text-align: right;\">\n",
              "      <th></th>\n",
              "      <th>Pregnancies</th>\n",
              "      <th>Glucose</th>\n",
              "      <th>BloodPressure</th>\n",
              "      <th>SkinThickness</th>\n",
              "      <th>Insulin</th>\n",
              "      <th>BMI</th>\n",
              "      <th>DiabetesPedigreeFunction</th>\n",
              "      <th>Age</th>\n",
              "      <th>Outcome</th>\n",
              "    </tr>\n",
              "  </thead>\n",
              "  <tbody>\n",
              "    <tr>\n",
              "      <th>0</th>\n",
              "      <td>6</td>\n",
              "      <td>148</td>\n",
              "      <td>72</td>\n",
              "      <td>35</td>\n",
              "      <td>0</td>\n",
              "      <td>33.6</td>\n",
              "      <td>0.627</td>\n",
              "      <td>50</td>\n",
              "      <td>1</td>\n",
              "    </tr>\n",
              "    <tr>\n",
              "      <th>1</th>\n",
              "      <td>1</td>\n",
              "      <td>85</td>\n",
              "      <td>66</td>\n",
              "      <td>29</td>\n",
              "      <td>0</td>\n",
              "      <td>26.6</td>\n",
              "      <td>0.351</td>\n",
              "      <td>31</td>\n",
              "      <td>0</td>\n",
              "    </tr>\n",
              "    <tr>\n",
              "      <th>2</th>\n",
              "      <td>8</td>\n",
              "      <td>183</td>\n",
              "      <td>64</td>\n",
              "      <td>0</td>\n",
              "      <td>0</td>\n",
              "      <td>23.3</td>\n",
              "      <td>0.672</td>\n",
              "      <td>32</td>\n",
              "      <td>1</td>\n",
              "    </tr>\n",
              "    <tr>\n",
              "      <th>4</th>\n",
              "      <td>0</td>\n",
              "      <td>137</td>\n",
              "      <td>40</td>\n",
              "      <td>35</td>\n",
              "      <td>168</td>\n",
              "      <td>43.1</td>\n",
              "      <td>2.288</td>\n",
              "      <td>33</td>\n",
              "      <td>1</td>\n",
              "    </tr>\n",
              "    <tr>\n",
              "      <th>5</th>\n",
              "      <td>5</td>\n",
              "      <td>116</td>\n",
              "      <td>74</td>\n",
              "      <td>0</td>\n",
              "      <td>0</td>\n",
              "      <td>25.6</td>\n",
              "      <td>0.201</td>\n",
              "      <td>30</td>\n",
              "      <td>0</td>\n",
              "    </tr>\n",
              "    <tr>\n",
              "      <th>...</th>\n",
              "      <td>...</td>\n",
              "      <td>...</td>\n",
              "      <td>...</td>\n",
              "      <td>...</td>\n",
              "      <td>...</td>\n",
              "      <td>...</td>\n",
              "      <td>...</td>\n",
              "      <td>...</td>\n",
              "      <td>...</td>\n",
              "    </tr>\n",
              "    <tr>\n",
              "      <th>762</th>\n",
              "      <td>9</td>\n",
              "      <td>89</td>\n",
              "      <td>62</td>\n",
              "      <td>0</td>\n",
              "      <td>0</td>\n",
              "      <td>22.5</td>\n",
              "      <td>0.142</td>\n",
              "      <td>33</td>\n",
              "      <td>0</td>\n",
              "    </tr>\n",
              "    <tr>\n",
              "      <th>763</th>\n",
              "      <td>10</td>\n",
              "      <td>101</td>\n",
              "      <td>76</td>\n",
              "      <td>48</td>\n",
              "      <td>180</td>\n",
              "      <td>32.9</td>\n",
              "      <td>0.171</td>\n",
              "      <td>63</td>\n",
              "      <td>0</td>\n",
              "    </tr>\n",
              "    <tr>\n",
              "      <th>764</th>\n",
              "      <td>2</td>\n",
              "      <td>122</td>\n",
              "      <td>70</td>\n",
              "      <td>27</td>\n",
              "      <td>0</td>\n",
              "      <td>36.8</td>\n",
              "      <td>0.340</td>\n",
              "      <td>27</td>\n",
              "      <td>0</td>\n",
              "    </tr>\n",
              "    <tr>\n",
              "      <th>765</th>\n",
              "      <td>5</td>\n",
              "      <td>121</td>\n",
              "      <td>72</td>\n",
              "      <td>23</td>\n",
              "      <td>112</td>\n",
              "      <td>26.2</td>\n",
              "      <td>0.245</td>\n",
              "      <td>30</td>\n",
              "      <td>0</td>\n",
              "    </tr>\n",
              "    <tr>\n",
              "      <th>766</th>\n",
              "      <td>1</td>\n",
              "      <td>126</td>\n",
              "      <td>60</td>\n",
              "      <td>0</td>\n",
              "      <td>0</td>\n",
              "      <td>30.1</td>\n",
              "      <td>0.349</td>\n",
              "      <td>47</td>\n",
              "      <td>1</td>\n",
              "    </tr>\n",
              "  </tbody>\n",
              "</table>\n",
              "<p>668 rows × 9 columns</p>\n",
              "</div>"
            ],
            "text/plain": [
              "     Pregnancies  Glucose  ...  Age  Outcome\n",
              "0              6      148  ...   50        1\n",
              "1              1       85  ...   31        0\n",
              "2              8      183  ...   32        1\n",
              "4              0      137  ...   33        1\n",
              "5              5      116  ...   30        0\n",
              "..           ...      ...  ...  ...      ...\n",
              "762            9       89  ...   33        0\n",
              "763           10      101  ...   63        0\n",
              "764            2      122  ...   27        0\n",
              "765            5      121  ...   30        0\n",
              "766            1      126  ...   47        1\n",
              "\n",
              "[668 rows x 9 columns]"
            ]
          },
          "metadata": {
            "tags": []
          },
          "execution_count": 50
        }
      ]
    },
    {
      "cell_type": "markdown",
      "metadata": {
        "id": "XHKEF_dEfaXQ"
      },
      "source": [
        "new_data_final is the data without outliers and diff_data consists of only outliers."
      ]
    },
    {
      "cell_type": "code",
      "metadata": {
        "id": "B7UuqnZlyddX"
      },
      "source": [
        "X_outliers = diff_df.drop('Outcome',axis=1)\n",
        "y_outliers = diff_df['Outcome']"
      ],
      "execution_count": null,
      "outputs": []
    },
    {
      "cell_type": "code",
      "metadata": {
        "colab": {
          "base_uri": "https://localhost:8080/"
        },
        "id": "eaQ4pQY1k9lb",
        "outputId": "1330e456-f351-4d01-c9d5-8258a7dae67f"
      },
      "source": [
        "outlier_smote = SMOTE(random_state = 0)\n",
        "outlier_smote.fit(X_outliers,y_outliers)\n",
        "X_outlier_smote,y_outlier_smote = outlier_smote.fit_resample(X_outliers,y_outliers)"
      ],
      "execution_count": null,
      "outputs": [
        {
          "output_type": "stream",
          "text": [
            "/usr/local/lib/python3.7/dist-packages/sklearn/utils/deprecation.py:87: FutureWarning: Function safe_indexing is deprecated; safe_indexing is deprecated in version 0.22 and will be removed in version 0.24.\n",
            "  warnings.warn(msg, category=FutureWarning)\n"
          ],
          "name": "stderr"
        }
      ]
    },
    {
      "cell_type": "code",
      "metadata": {
        "id": "-hzIsW86lRk-"
      },
      "source": [
        "#X_outlier_smote.tolist()"
      ],
      "execution_count": null,
      "outputs": []
    },
    {
      "cell_type": "code",
      "metadata": {
        "id": "E8bNtn_Um6gK"
      },
      "source": [
        "#y_outlier_smote.tolist()"
      ],
      "execution_count": null,
      "outputs": []
    },
    {
      "cell_type": "code",
      "metadata": {
        "colab": {
          "base_uri": "https://localhost:8080/",
          "height": 195
        },
        "id": "cMI8fKaVmr4J",
        "outputId": "782da32a-4e4c-4d99-ab56-b43bac346028"
      },
      "source": [
        "df.head()"
      ],
      "execution_count": null,
      "outputs": [
        {
          "output_type": "execute_result",
          "data": {
            "text/html": [
              "<div>\n",
              "<style scoped>\n",
              "    .dataframe tbody tr th:only-of-type {\n",
              "        vertical-align: middle;\n",
              "    }\n",
              "\n",
              "    .dataframe tbody tr th {\n",
              "        vertical-align: top;\n",
              "    }\n",
              "\n",
              "    .dataframe thead th {\n",
              "        text-align: right;\n",
              "    }\n",
              "</style>\n",
              "<table border=\"1\" class=\"dataframe\">\n",
              "  <thead>\n",
              "    <tr style=\"text-align: right;\">\n",
              "      <th></th>\n",
              "      <th>Pregnancies</th>\n",
              "      <th>Glucose</th>\n",
              "      <th>BloodPressure</th>\n",
              "      <th>SkinThickness</th>\n",
              "      <th>Insulin</th>\n",
              "      <th>BMI</th>\n",
              "      <th>DiabetesPedigreeFunction</th>\n",
              "      <th>Age</th>\n",
              "      <th>Outcome</th>\n",
              "    </tr>\n",
              "  </thead>\n",
              "  <tbody>\n",
              "    <tr>\n",
              "      <th>3</th>\n",
              "      <td>1</td>\n",
              "      <td>89</td>\n",
              "      <td>66</td>\n",
              "      <td>23</td>\n",
              "      <td>94</td>\n",
              "      <td>28.1</td>\n",
              "      <td>0.167</td>\n",
              "      <td>21</td>\n",
              "      <td>0</td>\n",
              "    </tr>\n",
              "    <tr>\n",
              "      <th>27</th>\n",
              "      <td>1</td>\n",
              "      <td>97</td>\n",
              "      <td>66</td>\n",
              "      <td>15</td>\n",
              "      <td>140</td>\n",
              "      <td>23.2</td>\n",
              "      <td>0.487</td>\n",
              "      <td>22</td>\n",
              "      <td>0</td>\n",
              "    </tr>\n",
              "    <tr>\n",
              "      <th>32</th>\n",
              "      <td>3</td>\n",
              "      <td>88</td>\n",
              "      <td>58</td>\n",
              "      <td>11</td>\n",
              "      <td>54</td>\n",
              "      <td>24.8</td>\n",
              "      <td>0.267</td>\n",
              "      <td>22</td>\n",
              "      <td>0</td>\n",
              "    </tr>\n",
              "    <tr>\n",
              "      <th>47</th>\n",
              "      <td>2</td>\n",
              "      <td>71</td>\n",
              "      <td>70</td>\n",
              "      <td>27</td>\n",
              "      <td>0</td>\n",
              "      <td>28.0</td>\n",
              "      <td>0.586</td>\n",
              "      <td>22</td>\n",
              "      <td>0</td>\n",
              "    </tr>\n",
              "    <tr>\n",
              "      <th>50</th>\n",
              "      <td>1</td>\n",
              "      <td>103</td>\n",
              "      <td>80</td>\n",
              "      <td>11</td>\n",
              "      <td>82</td>\n",
              "      <td>19.4</td>\n",
              "      <td>0.491</td>\n",
              "      <td>22</td>\n",
              "      <td>0</td>\n",
              "    </tr>\n",
              "  </tbody>\n",
              "</table>\n",
              "</div>"
            ],
            "text/plain": [
              "    Pregnancies  Glucose  BloodPressure  ...  DiabetesPedigreeFunction  Age  Outcome\n",
              "3             1       89             66  ...                     0.167   21        0\n",
              "27            1       97             66  ...                     0.487   22        0\n",
              "32            3       88             58  ...                     0.267   22        0\n",
              "47            2       71             70  ...                     0.586   22        0\n",
              "50            1      103             80  ...                     0.491   22        0\n",
              "\n",
              "[5 rows x 9 columns]"
            ]
          },
          "metadata": {
            "tags": []
          },
          "execution_count": 58
        }
      ]
    },
    {
      "cell_type": "code",
      "metadata": {
        "id": "Nua9hL8GleiV"
      },
      "source": [
        "X_outlier_df = pd.DataFrame(columns=['Pregnancies','Glucose','BloodPressure','SkinThickness','Insulin','BMI','DiabetesPedigreeFunction','Age'],data = X_outlier_smote)\n",
        "y_outlier_df = pd.DataFrame(columns=['Outcome'],data = y_outlier_smote)"
      ],
      "execution_count": null,
      "outputs": []
    },
    {
      "cell_type": "code",
      "metadata": {
        "colab": {
          "base_uri": "https://localhost:8080/",
          "height": 195
        },
        "id": "1l4iBKOxnN3m",
        "outputId": "a6ed72c8-74c4-4fca-f836-f73bfbf12d52"
      },
      "source": [
        "Outlier_df = pd.concat([X_outlier_df,y_outlier_df],axis=1)\n",
        "Outlier_df.head() "
      ],
      "execution_count": null,
      "outputs": [
        {
          "output_type": "execute_result",
          "data": {
            "text/html": [
              "<div>\n",
              "<style scoped>\n",
              "    .dataframe tbody tr th:only-of-type {\n",
              "        vertical-align: middle;\n",
              "    }\n",
              "\n",
              "    .dataframe tbody tr th {\n",
              "        vertical-align: top;\n",
              "    }\n",
              "\n",
              "    .dataframe thead th {\n",
              "        text-align: right;\n",
              "    }\n",
              "</style>\n",
              "<table border=\"1\" class=\"dataframe\">\n",
              "  <thead>\n",
              "    <tr style=\"text-align: right;\">\n",
              "      <th></th>\n",
              "      <th>Pregnancies</th>\n",
              "      <th>Glucose</th>\n",
              "      <th>BloodPressure</th>\n",
              "      <th>SkinThickness</th>\n",
              "      <th>Insulin</th>\n",
              "      <th>BMI</th>\n",
              "      <th>DiabetesPedigreeFunction</th>\n",
              "      <th>Age</th>\n",
              "      <th>Outcome</th>\n",
              "    </tr>\n",
              "  </thead>\n",
              "  <tbody>\n",
              "    <tr>\n",
              "      <th>0</th>\n",
              "      <td>6.0</td>\n",
              "      <td>148.0</td>\n",
              "      <td>72.0</td>\n",
              "      <td>35.0</td>\n",
              "      <td>0.0</td>\n",
              "      <td>33.6</td>\n",
              "      <td>0.627</td>\n",
              "      <td>50.0</td>\n",
              "      <td>1</td>\n",
              "    </tr>\n",
              "    <tr>\n",
              "      <th>1</th>\n",
              "      <td>1.0</td>\n",
              "      <td>85.0</td>\n",
              "      <td>66.0</td>\n",
              "      <td>29.0</td>\n",
              "      <td>0.0</td>\n",
              "      <td>26.6</td>\n",
              "      <td>0.351</td>\n",
              "      <td>31.0</td>\n",
              "      <td>0</td>\n",
              "    </tr>\n",
              "    <tr>\n",
              "      <th>2</th>\n",
              "      <td>8.0</td>\n",
              "      <td>183.0</td>\n",
              "      <td>64.0</td>\n",
              "      <td>0.0</td>\n",
              "      <td>0.0</td>\n",
              "      <td>23.3</td>\n",
              "      <td>0.672</td>\n",
              "      <td>32.0</td>\n",
              "      <td>1</td>\n",
              "    </tr>\n",
              "    <tr>\n",
              "      <th>3</th>\n",
              "      <td>0.0</td>\n",
              "      <td>137.0</td>\n",
              "      <td>40.0</td>\n",
              "      <td>35.0</td>\n",
              "      <td>168.0</td>\n",
              "      <td>43.1</td>\n",
              "      <td>2.288</td>\n",
              "      <td>33.0</td>\n",
              "      <td>1</td>\n",
              "    </tr>\n",
              "    <tr>\n",
              "      <th>4</th>\n",
              "      <td>5.0</td>\n",
              "      <td>116.0</td>\n",
              "      <td>74.0</td>\n",
              "      <td>0.0</td>\n",
              "      <td>0.0</td>\n",
              "      <td>25.6</td>\n",
              "      <td>0.201</td>\n",
              "      <td>30.0</td>\n",
              "      <td>0</td>\n",
              "    </tr>\n",
              "  </tbody>\n",
              "</table>\n",
              "</div>"
            ],
            "text/plain": [
              "   Pregnancies  Glucose  BloodPressure  ...  DiabetesPedigreeFunction   Age  Outcome\n",
              "0          6.0    148.0           72.0  ...                     0.627  50.0        1\n",
              "1          1.0     85.0           66.0  ...                     0.351  31.0        0\n",
              "2          8.0    183.0           64.0  ...                     0.672  32.0        1\n",
              "3          0.0    137.0           40.0  ...                     2.288  33.0        1\n",
              "4          5.0    116.0           74.0  ...                     0.201  30.0        0\n",
              "\n",
              "[5 rows x 9 columns]"
            ]
          },
          "metadata": {
            "tags": []
          },
          "execution_count": 62
        }
      ]
    },
    {
      "cell_type": "markdown",
      "metadata": {
        "id": "-9k7J4znni1m"
      },
      "source": [
        "Outlier_df contains all the outliers SMOTED. This dataframe should be merged with dataframe without outliers."
      ]
    },
    {
      "cell_type": "code",
      "metadata": {
        "colab": {
          "base_uri": "https://localhost:8080/",
          "height": 195
        },
        "id": "eUx7OKVtndGL",
        "outputId": "6fd149f6-a0a7-4318-b1f6-d92b4eb993ca"
      },
      "source": [
        "IQR_SMOTE_df = pd.concat([Outlier_df,new_data_final])\n",
        "IQR_SMOTE_df.head()"
      ],
      "execution_count": null,
      "outputs": [
        {
          "output_type": "execute_result",
          "data": {
            "text/html": [
              "<div>\n",
              "<style scoped>\n",
              "    .dataframe tbody tr th:only-of-type {\n",
              "        vertical-align: middle;\n",
              "    }\n",
              "\n",
              "    .dataframe tbody tr th {\n",
              "        vertical-align: top;\n",
              "    }\n",
              "\n",
              "    .dataframe thead th {\n",
              "        text-align: right;\n",
              "    }\n",
              "</style>\n",
              "<table border=\"1\" class=\"dataframe\">\n",
              "  <thead>\n",
              "    <tr style=\"text-align: right;\">\n",
              "      <th></th>\n",
              "      <th>Pregnancies</th>\n",
              "      <th>Glucose</th>\n",
              "      <th>BloodPressure</th>\n",
              "      <th>SkinThickness</th>\n",
              "      <th>Insulin</th>\n",
              "      <th>BMI</th>\n",
              "      <th>DiabetesPedigreeFunction</th>\n",
              "      <th>Age</th>\n",
              "      <th>Outcome</th>\n",
              "    </tr>\n",
              "  </thead>\n",
              "  <tbody>\n",
              "    <tr>\n",
              "      <th>0</th>\n",
              "      <td>6.0</td>\n",
              "      <td>148.0</td>\n",
              "      <td>72.0</td>\n",
              "      <td>35.0</td>\n",
              "      <td>0.0</td>\n",
              "      <td>33.6</td>\n",
              "      <td>0.627</td>\n",
              "      <td>50.0</td>\n",
              "      <td>1</td>\n",
              "    </tr>\n",
              "    <tr>\n",
              "      <th>1</th>\n",
              "      <td>1.0</td>\n",
              "      <td>85.0</td>\n",
              "      <td>66.0</td>\n",
              "      <td>29.0</td>\n",
              "      <td>0.0</td>\n",
              "      <td>26.6</td>\n",
              "      <td>0.351</td>\n",
              "      <td>31.0</td>\n",
              "      <td>0</td>\n",
              "    </tr>\n",
              "    <tr>\n",
              "      <th>2</th>\n",
              "      <td>8.0</td>\n",
              "      <td>183.0</td>\n",
              "      <td>64.0</td>\n",
              "      <td>0.0</td>\n",
              "      <td>0.0</td>\n",
              "      <td>23.3</td>\n",
              "      <td>0.672</td>\n",
              "      <td>32.0</td>\n",
              "      <td>1</td>\n",
              "    </tr>\n",
              "    <tr>\n",
              "      <th>3</th>\n",
              "      <td>0.0</td>\n",
              "      <td>137.0</td>\n",
              "      <td>40.0</td>\n",
              "      <td>35.0</td>\n",
              "      <td>168.0</td>\n",
              "      <td>43.1</td>\n",
              "      <td>2.288</td>\n",
              "      <td>33.0</td>\n",
              "      <td>1</td>\n",
              "    </tr>\n",
              "    <tr>\n",
              "      <th>4</th>\n",
              "      <td>5.0</td>\n",
              "      <td>116.0</td>\n",
              "      <td>74.0</td>\n",
              "      <td>0.0</td>\n",
              "      <td>0.0</td>\n",
              "      <td>25.6</td>\n",
              "      <td>0.201</td>\n",
              "      <td>30.0</td>\n",
              "      <td>0</td>\n",
              "    </tr>\n",
              "  </tbody>\n",
              "</table>\n",
              "</div>"
            ],
            "text/plain": [
              "   Pregnancies  Glucose  BloodPressure  ...  DiabetesPedigreeFunction   Age  Outcome\n",
              "0          6.0    148.0           72.0  ...                     0.627  50.0        1\n",
              "1          1.0     85.0           66.0  ...                     0.351  31.0        0\n",
              "2          8.0    183.0           64.0  ...                     0.672  32.0        1\n",
              "3          0.0    137.0           40.0  ...                     2.288  33.0        1\n",
              "4          5.0    116.0           74.0  ...                     0.201  30.0        0\n",
              "\n",
              "[5 rows x 9 columns]"
            ]
          },
          "metadata": {
            "tags": []
          },
          "execution_count": 63
        }
      ]
    },
    {
      "cell_type": "code",
      "metadata": {
        "id": "3PLOfM7OoMjn"
      },
      "source": [
        "X_iqr_smote = IQR_SMOTE_df.drop('Outcome',axis=1)\n",
        "y_iqr_smote = IQR_SMOTE_df['Outcome']"
      ],
      "execution_count": null,
      "outputs": []
    },
    {
      "cell_type": "code",
      "metadata": {
        "id": "yjBZa8pgotqz"
      },
      "source": [
        "X_train,X_test,y_train,y_test = train_test_split(X_iqr_smote,y_iqr_smote,random_state = 0,train_size = 0.7)"
      ],
      "execution_count": null,
      "outputs": []
    },
    {
      "cell_type": "markdown",
      "metadata": {
        "id": "NX99CtqKpCEM"
      },
      "source": [
        "# 1. Decision Tree"
      ]
    },
    {
      "cell_type": "code",
      "metadata": {
        "colab": {
          "base_uri": "https://localhost:8080/",
          "height": 332
        },
        "id": "_LSaZC6uo6_a",
        "outputId": "fe578aa1-8577-496b-9a71-9dc4ddc66dce"
      },
      "source": [
        "dtc = DecisionTreeClassifier(random_state = 33)\n",
        "dtc.fit(X_train,y_train)\n",
        "prediction = dtc.predict(X_test)\n",
        "\n",
        "conf_mat = confusion_matrix(y_true=y_test, y_pred=prediction)\n",
        "print('Confusion matrix:\\n', conf_mat)\n",
        "labels = ['Non-Diabetes', 'Diabetes']\n",
        "fig = plt.figure()\n",
        "ax = fig.add_subplot(111)\n",
        "cax = ax.matshow(conf_mat, cmap=plt.cm.plasma)\n",
        "fig.colorbar(cax)\n",
        "ax.set_xticklabels([''] + labels)\n",
        "ax.set_yticklabels([''] + labels)\n",
        "plt.xlabel('Predicted')\n",
        "plt.ylabel('Expected')\n",
        "plt.show()"
      ],
      "execution_count": null,
      "outputs": [
        {
          "output_type": "stream",
          "text": [
            "Confusion matrix:\n",
            " [[121  33]\n",
            " [ 35  81]]\n"
          ],
          "name": "stdout"
        },
        {
          "output_type": "display_data",
          "data": {
            "image/png": "[encoded data removed]",
            "text/plain": [
              "<Figure size 432x288 with 2 Axes>"
            ]
          },
          "metadata": {
            "tags": [],
            "needs_background": "light"
          }
        }
      ]
    },
    {
      "cell_type": "code",
      "metadata": {
        "colab": {
          "base_uri": "https://localhost:8080/"
        },
        "id": "8W-tD3Z4pLn0",
        "outputId": "2a848aa1-f285-4646-ac42-a5c59c8e534a"
      },
      "source": [
        "print(classification_report(y_test,prediction))"
      ],
      "execution_count": null,
      "outputs": [
        {
          "output_type": "stream",
          "text": [
            "              precision    recall  f1-score   support\n",
            "\n",
            "           0       0.78      0.79      0.78       154\n",
            "           1       0.71      0.70      0.70       116\n",
            "\n",
            "    accuracy                           0.75       270\n",
            "   macro avg       0.74      0.74      0.74       270\n",
            "weighted avg       0.75      0.75      0.75       270\n",
            "\n"
          ],
          "name": "stdout"
        }
      ]
    },
    {
      "cell_type": "markdown",
      "metadata": {
        "id": "jcnsFYv8phmc"
      },
      "source": [
        "# 2. Gaussian Naive Bayes"
      ]
    },
    {
      "cell_type": "code",
      "metadata": {
        "colab": {
          "base_uri": "https://localhost:8080/",
          "height": 332
        },
        "id": "Zy8yTBKHpRx4",
        "outputId": "62751348-3803-46bb-e208-3b19c762b7ea"
      },
      "source": [
        "gnb = GaussianNB()\n",
        "gnb.fit(X_train,y_train)\n",
        "prediction = gnb.predict(X_test)\n",
        "\n",
        "conf_mat = confusion_matrix(y_true=y_test, y_pred=prediction)\n",
        "print('Confusion matrix:\\n', conf_mat)\n",
        "labels = ['Non-Diabetes', 'Diabetes']\n",
        "fig = plt.figure()\n",
        "ax = fig.add_subplot(111)\n",
        "cax = ax.matshow(conf_mat, cmap=plt.cm.plasma)\n",
        "fig.colorbar(cax)\n",
        "ax.set_xticklabels([''] + labels)\n",
        "ax.set_yticklabels([''] + labels)\n",
        "plt.xlabel('Predicted')\n",
        "plt.ylabel('Expected')\n",
        "plt.show()"
      ],
      "execution_count": null,
      "outputs": [
        {
          "output_type": "stream",
          "text": [
            "Confusion matrix:\n",
            " [[ 90  64]\n",
            " [ 10 106]]\n"
          ],
          "name": "stdout"
        },
        {
          "output_type": "display_data",
          "data": {
            "image/png": "[encoded data removed]",
            "text/plain": [
              "<Figure size 432x288 with 2 Axes>"
            ]
          },
          "metadata": {
            "tags": [],
            "needs_background": "light"
          }
        }
      ]
    },
    {
      "cell_type": "code",
      "metadata": {
        "colab": {
          "base_uri": "https://localhost:8080/"
        },
        "id": "cbhceM29pmLO",
        "outputId": "cb5c81d1-b423-4b00-d204-961adb037420"
      },
      "source": [
        "print(classification_report(y_test,prediction))"
      ],
      "execution_count": null,
      "outputs": [
        {
          "output_type": "stream",
          "text": [
            "              precision    recall  f1-score   support\n",
            "\n",
            "           0       0.90      0.58      0.71       154\n",
            "           1       0.62      0.91      0.74       116\n",
            "\n",
            "    accuracy                           0.73       270\n",
            "   macro avg       0.76      0.75      0.72       270\n",
            "weighted avg       0.78      0.73      0.72       270\n",
            "\n"
          ],
          "name": "stdout"
        }
      ]
    },
    {
      "cell_type": "markdown",
      "metadata": {
        "id": "hKwFrpXgp3rl"
      },
      "source": [
        "# 3. SVM with RBF Kernel"
      ]
    },
    {
      "cell_type": "code",
      "metadata": {
        "colab": {
          "base_uri": "https://localhost:8080/",
          "height": 332
        },
        "id": "NdTDefSBpoHm",
        "outputId": "02092099-08b7-46fa-9adb-ff217c5232c6"
      },
      "source": [
        "svc=SVC(random_state=20)\n",
        "svc.fit(X_train,y_train)\n",
        "prediction = svc.predict(X_test)\n",
        "\n",
        "conf_mat = confusion_matrix(y_true=y_test, y_pred=prediction)\n",
        "print('Confusion matrix:\\n', conf_mat)\n",
        "labels = ['Non-Diabetes', 'Diabetes']\n",
        "fig = plt.figure()\n",
        "ax = fig.add_subplot(111)\n",
        "cax = ax.matshow(conf_mat, cmap=plt.cm.plasma)\n",
        "fig.colorbar(cax)\n",
        "ax.set_xticklabels([''] + labels)\n",
        "ax.set_yticklabels([''] + labels)\n",
        "plt.xlabel('Predicted')\n",
        "plt.ylabel('Expected')\n",
        "plt.show()"
      ],
      "execution_count": null,
      "outputs": [
        {
          "output_type": "stream",
          "text": [
            "Confusion matrix:\n",
            " [[136  18]\n",
            " [ 46  70]]\n"
          ],
          "name": "stdout"
        },
        {
          "output_type": "display_data",
          "data": {
            "image/png": "[encoded data removed]",
            "text/plain": [
              "<Figure size 432x288 with 2 Axes>"
            ]
          },
          "metadata": {
            "tags": [],
            "needs_background": "light"
          }
        }
      ]
    },
    {
      "cell_type": "code",
      "metadata": {
        "colab": {
          "base_uri": "https://localhost:8080/"
        },
        "id": "uCPYo7iFqDwc",
        "outputId": "aa539b79-3e4b-40d2-e33b-542fca8fc753"
      },
      "source": [
        "print(classification_report(y_test,prediction))"
      ],
      "execution_count": null,
      "outputs": [
        {
          "output_type": "stream",
          "text": [
            "              precision    recall  f1-score   support\n",
            "\n",
            "           0       0.75      0.88      0.81       154\n",
            "           1       0.80      0.60      0.69       116\n",
            "\n",
            "    accuracy                           0.76       270\n",
            "   macro avg       0.77      0.74      0.75       270\n",
            "weighted avg       0.77      0.76      0.76       270\n",
            "\n"
          ],
          "name": "stdout"
        }
      ]
    },
    {
      "cell_type": "markdown",
      "metadata": {
        "id": "qW8PnFH3p9AZ"
      },
      "source": [
        "# 4. RIPPER"
      ]
    },
    {
      "cell_type": "code",
      "metadata": {
        "colab": {
          "base_uri": "https://localhost:8080/",
          "height": 332
        },
        "id": "wwuGO_S-p2EP",
        "outputId": "14895d3e-8897-497c-c7b1-92a0465c7b5f"
      },
      "source": [
        "ripper_clf = lw.RIPPER(random_state = 0)\n",
        "ripper_clf.fit(X_train,y_train)\n",
        "prediction = ripper_clf.predict(X_test)\n",
        "\n",
        "conf_mat = confusion_matrix(y_true=y_test, y_pred=prediction)\n",
        "print('Confusion matrix:\\n', conf_mat)\n",
        "labels = ['Non-Diabetes', 'Diabetes']\n",
        "fig = plt.figure()\n",
        "ax = fig.add_subplot(111)\n",
        "cax = ax.matshow(conf_mat, cmap=plt.cm.plasma)\n",
        "fig.colorbar(cax)\n",
        "ax.set_xticklabels([''] + labels)\n",
        "ax.set_yticklabels([''] + labels)\n",
        "plt.xlabel('Predicted')\n",
        "plt.ylabel('Expected')\n",
        "plt.show()"
      ],
      "execution_count": null,
      "outputs": [
        {
          "output_type": "stream",
          "text": [
            "Confusion matrix:\n",
            " [[143  11]\n",
            " [ 62  54]]\n"
          ],
          "name": "stdout"
        },
        {
          "output_type": "display_data",
          "data": {
            "image/png": "[encoded data removed]",
            "text/plain": [
              "<Figure size 432x288 with 2 Axes>"
            ]
          },
          "metadata": {
            "tags": [],
            "needs_background": "light"
          }
        }
      ]
    },
    {
      "cell_type": "code",
      "metadata": {
        "colab": {
          "base_uri": "https://localhost:8080/"
        },
        "id": "AxKvyPJJqImm",
        "outputId": "78673a15-4051-4ded-fe28-07f6279e612a"
      },
      "source": [
        "print(classification_report(y_test,prediction))"
      ],
      "execution_count": null,
      "outputs": [
        {
          "output_type": "stream",
          "text": [
            "              precision    recall  f1-score   support\n",
            "\n",
            "           0       0.70      0.93      0.80       154\n",
            "           1       0.83      0.47      0.60       116\n",
            "\n",
            "    accuracy                           0.73       270\n",
            "   macro avg       0.76      0.70      0.70       270\n",
            "weighted avg       0.75      0.73      0.71       270\n",
            "\n"
          ],
          "name": "stdout"
        }
      ]
    }
  ]
}